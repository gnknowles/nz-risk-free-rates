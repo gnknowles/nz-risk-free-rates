{
 "cells": [
  {
   "cell_type": "markdown",
   "metadata": {
    "application/vnd.databricks.v1+cell": {
     "cellMetadata": {},
     "inputWidgets": {},
     "nuid": "2c572ee0-bef1-45d6-9f36-ac06a0d20ba8",
     "showTitle": false,
     "tableResultSettingsMap": {},
     "title": ""
    }
   },
   "source": [
    "## Modelling Notebook\n",
    "\n",
    "**Layer**: Silver\n",
    "\n",
    "**Domain**: Risk-free\n",
    "\n",
    "**Action**: Modelling of the zero coupon bond forward rates using observable market data"
   ]
  },
  {
   "cell_type": "code",
   "execution_count": 0,
   "metadata": {
    "application/vnd.databricks.v1+cell": {
     "cellMetadata": {
      "byteLimit": 2048000,
      "rowLimit": 10000
     },
     "inputWidgets": {},
     "nuid": "ca8fc55a-0cc6-4b2f-9750-9a4fca50a565",
     "showTitle": false,
     "tableResultSettingsMap": {},
     "title": ""
    }
   },
   "outputs": [],
   "source": [
    "import pandas as pd\n",
    "import numpy as np"
   ]
  },
  {
   "cell_type": "markdown",
   "metadata": {
    "application/vnd.databricks.v1+cell": {
     "cellMetadata": {},
     "inputWidgets": {},
     "nuid": "4cdab46f-2ac7-40bd-9353-6290a89f3650",
     "showTitle": false,
     "tableResultSettingsMap": {},
     "title": ""
    }
   },
   "source": [
    "## Section 1 - Load Inputs"
   ]
  },
  {
   "cell_type": "code",
   "execution_count": 0,
   "metadata": {
    "application/vnd.databricks.v1+cell": {
     "cellMetadata": {
      "byteLimit": 2048000,
      "rowLimit": 10000
     },
     "inputWidgets": {},
     "nuid": "7c5be35b-0ca8-4062-85fc-c5c265d2299c",
     "showTitle": false,
     "tableResultSettingsMap": {},
     "title": ""
    }
   },
   "outputs": [],
   "source": [
    "# Set as a parameter here for now\n",
    "as_of_date = '2025-06-30'"
   ]
  },
  {
   "cell_type": "code",
   "execution_count": 0,
   "metadata": {
    "application/vnd.databricks.v1+cell": {
     "cellMetadata": {
      "byteLimit": 2048000,
      "rowLimit": 10000
     },
     "inputWidgets": {},
     "nuid": "4ce15711-853d-4d1c-86d1-e7497602fc3e",
     "showTitle": false,
     "tableResultSettingsMap": {},
     "title": ""
    }
   },
   "outputs": [],
   "source": [
    "# Read cleaned and enriched inputs from silver layer\n",
    "df_yields = spark.table(\"workspace.riskfree_silver.003_rbnz_yields_transformed\") \\\n",
    "    .filter(f\"(date = '{as_of_date}' AND series = 'Official Cash Rate (OCR)' AND group = 'Cash rate') OR (date = '{as_of_date}' AND series NOT LIKE '%year%' AND group = 'Secondary market government bond yields')\")\n",
    "df_amounts   = spark.table(\"workspace.riskfree_silver.002_nzdm_govtbonds_onissue_enriched\").filter(f\"as_of_date = '{as_of_date}' AND group = 'Secondary market government bond yields'\")"
   ]
  },
  {
   "cell_type": "code",
   "execution_count": 0,
   "metadata": {
    "application/vnd.databricks.v1+cell": {
     "cellMetadata": {
      "byteLimit": 2048000,
      "rowLimit": 10000
     },
     "inputWidgets": {},
     "nuid": "b775a2b2-7c69-48f0-968a-a244d8e6a139",
     "showTitle": false,
     "tableResultSettingsMap": {},
     "title": ""
    }
   },
   "outputs": [
    {
     "output_type": "display_data",
     "data": {
      "text/plain": [
       "Databricks visualization. Run in Databricks to view."
      ]
     },
     "metadata": {
      "application/vnd.databricks.v1.subcommand+json": {
       "baseErrorDetails": null,
       "bindings": {},
       "collapsed": false,
       "command": "%python\n__backend_agg_display_orig = display\n__backend_agg_dfs = []\ndef __backend_agg_display_new(df):\n    __backend_agg_df_modules = [\"pandas.core.frame\", \"databricks.koalas.frame\", \"pyspark.sql.dataframe\", \"pyspark.pandas.frame\", \"pyspark.sql.connect.dataframe\"]\n    if (type(df).__module__ in __backend_agg_df_modules and type(df).__name__ == 'DataFrame') or isinstance(df, list):\n        __backend_agg_dfs.append(df)\n\ndisplay = __backend_agg_display_new\n\ndef __backend_agg_user_code_fn():\n    import base64\n    exec(base64.standard_b64decode(\"ZGlzcGxheShkZl95aWVsZHMpCmRpc3BsYXkoZGZfYW1vdW50cyk=\").decode())\n\ntry:\n    # run user code\n    __backend_agg_user_code_fn()\n\n    #reset display function\n    display = __backend_agg_display_orig\n\n    if len(__backend_agg_dfs) > 0:\n        # create a temp view\n        if type(__backend_agg_dfs[0]).__module__ == \"databricks.koalas.frame\":\n            # koalas dataframe\n            __backend_agg_dfs[0].to_spark().createOrReplaceTempView(\"DatabricksView79d06a5\")\n        elif type(__backend_agg_dfs[0]).__module__ == \"pandas.core.frame\" or isinstance(__backend_agg_dfs[0], list):\n            # pandas dataframe\n            spark.createDataFrame(__backend_agg_dfs[0]).createOrReplaceTempView(\"DatabricksView79d06a5\")\n        else:\n            __backend_agg_dfs[0].createOrReplaceTempView(\"DatabricksView79d06a5\")\n        #run backend agg\n        display(spark.sql(\"\"\"WITH q AS (select * from DatabricksView79d06a5) SELECT `term_yr`,`yield_decimal` FROM q\"\"\"))\n    else:\n        displayHTML(\"dataframe no longer exists. If you're using dataframe.display(), use display(dataframe) instead.\")\n\n\nfinally:\n    spark.sql(\"drop view if exists DatabricksView79d06a5\")\n    display = __backend_agg_display_orig\n    del __backend_agg_display_new\n    del __backend_agg_display_orig\n    del __backend_agg_dfs\n    del __backend_agg_user_code_fn\n\n",
       "commandTitle": "Visualization 1",
       "commandType": "auto",
       "commandVersion": 0,
       "commentThread": [],
       "commentsVisible": false,
       "contentSha256Hex": null,
       "customPlotOptions": {
        "redashChart": [
         {
          "key": "type",
          "value": "CHART"
         },
         {
          "key": "options",
          "value": {
           "alignYAxesAtZero": true,
           "coefficient": 1,
           "columnConfigurationMap": {
            "series": {
             "column": "series",
             "id": "column_d122c586269"
            },
            "x": {
             "column": "term_yr",
             "id": "column_d122c586262"
            },
            "y": [
             {
              "column": "yield_decimal",
              "id": "column_d122c586267"
             }
            ]
           },
           "dateTimeFormat": "DD/MM/YYYY HH:mm",
           "direction": {
            "type": "counterclockwise"
           },
           "error_y": {
            "type": "data",
            "visible": true
           },
           "globalSeriesType": "scatter",
           "legend": {
            "traceorder": "normal"
           },
           "missingValuesAsZero": true,
           "numberFormat": "0,0.[00000]",
           "percentFormat": "0[.]00%",
           "series": {
            "error_y": {
             "type": "data",
             "visible": true
            },
            "stacking": null
           },
           "seriesOptions": {
            "column_d122c586264": {
             "type": "scatter",
             "yAxis": 0
            },
            "yield_decimal": {
             "type": "scatter",
             "yAxis": 0
            }
           },
           "showDataLabels": false,
           "sizemode": "diameter",
           "sortX": true,
           "sortY": true,
           "swappedAxes": false,
           "textFormat": "",
           "useAggregationsUi": true,
           "valuesOptions": {},
           "version": 2,
           "xAxis": {
            "labels": {
             "enabled": true
            },
            "title": {
             "text": "Term (years)"
            },
            "type": "-"
           },
           "yAxis": [
            {
             "title": {
              "text": "Spot Yield (%pa)"
             },
             "type": "-"
            },
            {
             "opposite": true,
             "type": "-"
            }
           ]
          }
         }
        ]
       },
       "datasetPreviewNameToCmdIdMap": {},
       "diffDeletes": [],
       "diffInserts": [],
       "displayType": "redashChart",
       "error": null,
       "errorDetails": null,
       "errorSummary": null,
       "errorTraceType": null,
       "finishTime": 0,
       "globalVars": {},
       "guid": "",
       "height": "471",
       "hideCommandCode": false,
       "hideCommandResult": false,
       "iPythonMetadata": null,
       "inputWidgets": {},
       "isLockedInExamMode": false,
       "latestUser": "a user",
       "latestUserId": null,
       "listResultMetadata": null,
       "metadata": {},
       "nuid": "daf78c94-9406-4389-bfce-f1f7cff2fb08",
       "origId": 0,
       "parentHierarchy": [],
       "pivotAggregation": null,
       "pivotColumns": null,
       "position": 4.5,
       "resultDbfsErrorMessage": null,
       "resultDbfsStatus": "INLINED_IN_TREE",
       "results": null,
       "showCommandTitle": false,
       "startTime": 0,
       "state": "input",
       "streamStates": {},
       "subcommandOptions": {
        "queryPlan": {
         "selects": [
          {
           "column": "term_yr",
           "type": "column"
          },
          {
           "column": "yield_decimal",
           "type": "column"
          },
          {
           "column": "series",
           "type": "column"
          }
         ]
        }
       },
       "submitTime": 0,
       "subtype": "tableResultSubCmd.visualization",
       "tableResultIndex": 0,
       "tableResultSettingsMap": {},
       "useConsistentColors": false,
       "version": "CommandV1",
       "width": "auto",
       "workflows": null,
       "xColumns": null,
       "yColumns": null
      }
     },
     "output_type": "display_data"
    },
    {
     "output_type": "display_data",
     "data": {
      "text/plain": [
       "Databricks visualization. Run in Databricks to view."
      ]
     },
     "metadata": {
      "application/vnd.databricks.v1.subcommand+json": {
       "baseErrorDetails": null,
       "bindings": {},
       "collapsed": false,
       "command": "%python\n__backend_agg_display_orig = display\n__backend_agg_dfs = []\ndef __backend_agg_display_new(df):\n    __backend_agg_df_modules = [\"pandas.core.frame\", \"databricks.koalas.frame\", \"pyspark.sql.dataframe\", \"pyspark.pandas.frame\", \"pyspark.sql.connect.dataframe\"]\n    if (type(df).__module__ in __backend_agg_df_modules and type(df).__name__ == 'DataFrame') or isinstance(df, list):\n        __backend_agg_dfs.append(df)\n\ndisplay = __backend_agg_display_new\n\ndef __backend_agg_user_code_fn():\n    import base64\n    exec(base64.standard_b64decode(\"ZGlzcGxheShkZl95aWVsZHMpCmRpc3BsYXkoZGZfYW1vdW50cyk=\").decode())\n\ntry:\n    # run user code\n    __backend_agg_user_code_fn()\n\n    #reset display function\n    display = __backend_agg_display_orig\n\n    if len(__backend_agg_dfs) > 1:\n        # create a temp view\n        if type(__backend_agg_dfs[1]).__module__ == \"databricks.koalas.frame\":\n            # koalas dataframe\n            __backend_agg_dfs[1].to_spark().createOrReplaceTempView(\"DatabricksViewba14a1c\")\n        elif type(__backend_agg_dfs[1]).__module__ == \"pandas.core.frame\" or isinstance(__backend_agg_dfs[1], list):\n            # pandas dataframe\n            spark.createDataFrame(__backend_agg_dfs[1]).createOrReplaceTempView(\"DatabricksViewba14a1c\")\n        else:\n            __backend_agg_dfs[1].createOrReplaceTempView(\"DatabricksViewba14a1c\")\n        #run backend agg\n        display(spark.sql(\"\"\"WITH q AS (select * from DatabricksViewba14a1c) SELECT DATE_TRUNC('YEAR',`maturity`) `column_d122c586278`,SUM(`market_bonds_m`) `column_d122c586276` FROM q GROUP BY `column_d122c586278`\"\"\"))\n    else:\n        displayHTML(\"dataframe no longer exists. If you're using dataframe.display(), use display(dataframe) instead.\")\n\n\nfinally:\n    spark.sql(\"drop view if exists DatabricksViewba14a1c\")\n    display = __backend_agg_display_orig\n    del __backend_agg_display_new\n    del __backend_agg_display_orig\n    del __backend_agg_dfs\n    del __backend_agg_user_code_fn\n\n",
       "commandTitle": "Visualization 1",
       "commandType": "auto",
       "commandVersion": 0,
       "commentThread": [],
       "commentsVisible": false,
       "contentSha256Hex": null,
       "customPlotOptions": {
        "redashChart": [
         {
          "key": "type",
          "value": "CHART"
         },
         {
          "key": "options",
          "value": {
           "alignYAxesAtZero": true,
           "coefficient": 1,
           "columnConfigurationMap": {
            "x": {
             "column": "maturity",
             "id": "column_d122c586278",
             "transform": "YEAR_LEVEL"
            },
            "y": [
             {
              "column": "market_bonds_m",
              "id": "column_d122c586276",
              "transform": "SUM"
             }
            ]
           },
           "dateTimeFormat": "DD/MM/YYYY HH:mm",
           "direction": {
            "type": "counterclockwise"
           },
           "error_y": {
            "type": "data",
            "visible": true
           },
           "globalSeriesType": "column",
           "isAggregationOn": true,
           "legend": {
            "traceorder": "normal"
           },
           "missingValuesAsZero": true,
           "numberFormat": "0,0.[00000]",
           "percentFormat": "0[.]00%",
           "series": {
            "error_y": {
             "type": "data",
             "visible": true
            },
            "stacking": null
           },
           "seriesOptions": {
            "column_d122c586276": {
             "type": "column",
             "yAxis": 0
            }
           },
           "showDataLabels": false,
           "sizemode": "diameter",
           "sortX": true,
           "sortY": true,
           "swappedAxes": false,
           "textFormat": "",
           "useAggregationsUi": true,
           "valuesOptions": {},
           "version": 2,
           "xAxis": {
            "labels": {
             "enabled": true
            },
            "title": {
             "text": "Maturity Year"
            },
            "type": "-"
           },
           "yAxis": [
            {
             "title": {
              "text": "Market Value ($m)"
             },
             "type": "-"
            },
            {
             "opposite": true,
             "type": "-"
            }
           ]
          }
         }
        ]
       },
       "datasetPreviewNameToCmdIdMap": {},
       "diffDeletes": [],
       "diffInserts": [],
       "displayType": "redashChart",
       "error": null,
       "errorDetails": null,
       "errorSummary": null,
       "errorTraceType": null,
       "finishTime": 0,
       "globalVars": {},
       "guid": "",
       "height": "auto",
       "hideCommandCode": false,
       "hideCommandResult": false,
       "iPythonMetadata": null,
       "inputWidgets": {},
       "isLockedInExamMode": false,
       "latestUser": "a user",
       "latestUserId": null,
       "listResultMetadata": null,
       "metadata": {},
       "nuid": "6c0c8a1b-a8ac-4ab8-8c57-71bff7ebd9df",
       "origId": 0,
       "parentHierarchy": [],
       "pivotAggregation": null,
       "pivotColumns": null,
       "position": 4.5,
       "resultDbfsErrorMessage": null,
       "resultDbfsStatus": "INLINED_IN_TREE",
       "results": null,
       "showCommandTitle": false,
       "startTime": 0,
       "state": "input",
       "streamStates": {},
       "subcommandOptions": {
        "queryPlan": {
         "groups": [
          {
           "column": "column_d122c586278",
           "type": "column"
          }
         ],
         "selects": [
          {
           "alias": "column_d122c586278",
           "args": [
            {
             "column": "maturity",
             "type": "column"
            },
            {
             "string": "YEAR",
             "type": "string"
            }
           ],
           "function": "DATE_TRUNC",
           "type": "function"
          },
          {
           "alias": "column_d122c586276",
           "args": [
            {
             "column": "market_bonds_m",
             "type": "column"
            }
           ],
           "function": "SUM",
           "type": "function"
          }
         ]
        }
       },
       "submitTime": 0,
       "subtype": "tableResultSubCmd.visualization",
       "tableResultIndex": 1,
       "tableResultSettingsMap": {},
       "useConsistentColors": false,
       "version": "CommandV1",
       "width": "auto",
       "workflows": null,
       "xColumns": null,
       "yColumns": null
      }
     },
     "output_type": "display_data"
    }
   ],
   "source": [
    "display(df_yields)\n",
    "display(df_amounts)"
   ]
  },
  {
   "cell_type": "markdown",
   "metadata": {
    "application/vnd.databricks.v1+cell": {
     "cellMetadata": {},
     "inputWidgets": {},
     "nuid": "138f9a6b-713e-4f90-8fcd-1d82c90e1642",
     "showTitle": false,
     "tableResultSettingsMap": {},
     "title": ""
    }
   },
   "source": [
    "## Section 2 - Pre-processing of data"
   ]
  },
  {
   "cell_type": "code",
   "execution_count": 0,
   "metadata": {
    "application/vnd.databricks.v1+cell": {
     "cellMetadata": {
      "byteLimit": 2048000,
      "rowLimit": 10000
     },
     "inputWidgets": {},
     "nuid": "132aca61-7e0b-423e-9da3-5752f5f0baad",
     "showTitle": false,
     "tableResultSettingsMap": {},
     "title": ""
    }
   },
   "outputs": [],
   "source": [
    "# Convert spark to pandas for modelling\n",
    "pdf_yields = df_yields.toPandas()\n",
    "pdf_amounts = df_amounts.toPandas()\n",
    "\n",
    "# Merge the dataframes based on series_id\n",
    "merged_pdf = pdf_yields.merge(pdf_amounts, on='series_id', how='left')"
   ]
  },
  {
   "cell_type": "markdown",
   "metadata": {
    "application/vnd.databricks.v1+cell": {
     "cellMetadata": {},
     "inputWidgets": {},
     "nuid": "55d8607a-0ad9-400e-8b73-876af01f1c2f",
     "showTitle": false,
     "tableResultSettingsMap": {},
     "title": ""
    }
   },
   "source": [
    "## Section 3 - Bootstrapping of zero-coupon forward rates\n",
    "\n",
    "The one-month forward rate is determined from the one-month Treasury bill.\n",
    "\n",
    "Nominal Government bonds are decomposed into maturity and individual coupon payments to produce a set of equivalent zero-coupon nominal bonds maturing on the 15th of the month\n",
    "\n",
    "A forward rate is determined for the shortest nominal Government bond, for the period up until the first nominal bond matures. For the period between the first nominal bond and the nominal second bond a forward rate is determined so that the second nominal bond market value is equalled using the previous forward rates as well. This process is repeated to solve for each successive forward rate until all nominal bonds have been valued."
   ]
  },
  {
   "cell_type": "code",
   "execution_count": 0,
   "metadata": {
    "application/vnd.databricks.v1+cell": {
     "cellMetadata": {
      "byteLimit": 2048000,
      "rowLimit": 10000
     },
     "inputWidgets": {},
     "nuid": "0eec683a-6b30-43f8-a9e2-e0688ba0e8e1",
     "showTitle": false,
     "tableResultSettingsMap": {},
     "title": ""
    }
   },
   "outputs": [
    {
     "output_type": "display_data",
     "data": {
      "text/plain": [
       "Databricks visualization. Run in Databricks to view."
      ]
     },
     "metadata": {
      "application/vnd.databricks.v1.subcommand+json": {
       "baseErrorDetails": null,
       "bindings": {},
       "collapsed": false,
       "command": "%python\n__backend_agg_display_orig = display\n__backend_agg_dfs = []\ndef __backend_agg_display_new(df):\n    __backend_agg_df_modules = [\"pandas.core.frame\", \"databricks.koalas.frame\", \"pyspark.sql.dataframe\", \"pyspark.pandas.frame\", \"pyspark.sql.connect.dataframe\"]\n    if (type(df).__module__ in __backend_agg_df_modules and type(df).__name__ == 'DataFrame') or isinstance(df, list):\n        __backend_agg_dfs.append(df)\n\ndisplay = __backend_agg_display_new\n\ndef __backend_agg_user_code_fn():\n    import base64\n    exec(base64.standard_b64decode(\"ZGYgPSBtZXJnZWRfcGRmLnNvcnRfdmFsdWVzKGJ5PSd0ZXJtX3lyJylbWyJ0ZXJtX3lyIiwgInlpZWxkX2RlY2ltYWwiXV0ucmVuYW1lKGNvbHVtbnM9eyJ5aWVsZF9kZWNpbWFsIjogInNwb3RfcmF0ZV9wYSJ9KQoKIyBTdGVwIDE6IERpc2NvdW50IEZhY3RvcnMgZnJvbSBzcG90IHJhdGVzCmRmWyJkaXNjb3VudF9mYWN0b3IiXSA9IDEgLyAoMSArIGRmWyJzcG90X3JhdGVfcGEiXSkgKiogZGZbInRlcm1feXIiXQoKIyBTdGVwIDI6IEJvb3RzdHJhcCBmb3J3YXJkIHJhdGVzIGJldHdlZW4gYWRqYWNlbnQgdGVybXMKZndkX3JhdGVzID0gW10KZm9yIGkgaW4gcmFuZ2UoMSwgbGVuKGRmKSk6CiAgICB0MCA9IGRmLmxvY1tpLTEsICJ0ZXJtX3lyIl0KICAgIHQxID0gZGYubG9jW2ksICJ0ZXJtX3lyIl0KICAgIEQwID0gZGYubG9jW2ktMSwgImRpc2NvdW50X2ZhY3RvciJdCiAgICBEMSA9IGRmLmxvY1tpLCAiZGlzY291bnRfZmFjdG9yIl0KICAgIGZ3ZCA9IChEMCAvIEQxKSAqKiAoMSAvICh0MSAtIHQwKSkgLSAxCiAgICBmd2RfcmF0ZXMuYXBwZW5kKCh0MCwgdDEsIGZ3ZCkpCgojIEZpbmFsIGZvcndhcmQgcmF0ZSBEYXRhRnJhbWUKZGZfZndkID0gcGQuRGF0YUZyYW1lKGZ3ZF9yYXRlcywgY29sdW1ucz1bImZyb21feWVhciIsICJ0ZXJtX3lyIiwgImZ3ZF9yYXRlX3BhIl0pW1sidGVybV95ciIsICJmd2RfcmF0ZV9wYSJdXQpkZiA9IGRmLm1lcmdlKGRmX2Z3ZCwgb249InRlcm1feXIiLCBob3c9ImxlZnQiKVtbInRlcm1feXIiLCAic3BvdF9yYXRlX3BhIiwgImZ3ZF9yYXRlX3BhIl1dLmZpbGxuYSh7ImZ3ZF9yYXRlX3BhIjogZGZbInNwb3RfcmF0ZV9wYSJdfSkKCiMgRGlzcGxheSByZXN1bHQKZGlzcGxheShkZik=\").decode())\n\ntry:\n    # run user code\n    __backend_agg_user_code_fn()\n\n    #reset display function\n    display = __backend_agg_display_orig\n\n    if len(__backend_agg_dfs) > 0:\n        # create a temp view\n        if type(__backend_agg_dfs[0]).__module__ == \"databricks.koalas.frame\":\n            # koalas dataframe\n            __backend_agg_dfs[0].to_spark().createOrReplaceTempView(\"DatabricksView42a9899\")\n        elif type(__backend_agg_dfs[0]).__module__ == \"pandas.core.frame\" or isinstance(__backend_agg_dfs[0], list):\n            # pandas dataframe\n            spark.createDataFrame(__backend_agg_dfs[0]).createOrReplaceTempView(\"DatabricksView42a9899\")\n        else:\n            __backend_agg_dfs[0].createOrReplaceTempView(\"DatabricksView42a9899\")\n        #run backend agg\n        display(spark.sql(\"\"\"WITH q AS (select * from DatabricksView42a9899) SELECT `term_yr`,SUM(`spot_rate_pa`) `column_d122c586287`,SUM(`fwd_rate_pa`) `column_d122c586290` FROM q GROUP BY `term_yr`\"\"\"))\n    else:\n        displayHTML(\"dataframe no longer exists. If you're using dataframe.display(), use display(dataframe) instead.\")\n\n\nfinally:\n    spark.sql(\"drop view if exists DatabricksView42a9899\")\n    display = __backend_agg_display_orig\n    del __backend_agg_display_new\n    del __backend_agg_display_orig\n    del __backend_agg_dfs\n    del __backend_agg_user_code_fn\n\n",
       "commandTitle": "Visualization 1",
       "commandType": "auto",
       "commandVersion": 0,
       "commentThread": [],
       "commentsVisible": false,
       "contentSha256Hex": null,
       "customPlotOptions": {
        "redashChart": [
         {
          "key": "type",
          "value": "CHART"
         },
         {
          "key": "options",
          "value": {
           "alignYAxesAtZero": true,
           "coefficient": 1,
           "columnConfigurationMap": {
            "x": {
             "column": "term_yr",
             "id": "column_d122c586285"
            },
            "y": [
             {
              "column": "spot_rate_pa",
              "id": "column_d122c586287"
             },
             {
              "column": "fwd_rate_pa",
              "id": "column_d122c586290"
             }
            ]
           },
           "dateTimeFormat": "DD/MM/YYYY HH:mm",
           "direction": {
            "type": "counterclockwise"
           },
           "error_y": {
            "type": "data",
            "visible": true
           },
           "globalSeriesType": "scatter",
           "legend": {
            "traceorder": "normal"
           },
           "missingValuesAsZero": true,
           "numberFormat": "0,0.[00000]",
           "percentFormat": "0[.]0000%",
           "series": {
            "error_y": {
             "type": "data",
             "visible": true
            },
            "stacking": null
           },
           "seriesOptions": {
            "column_d122c586287": {
             "name": "Spot rate (%pa)",
             "type": "scatter",
             "yAxis": 0
            },
            "column_d122c586290": {
             "name": "Forward rate (%pa)",
             "type": "scatter",
             "yAxis": 0
            },
            "fwd_rate_pa": {
             "name": "Forward rate (%pa)",
             "type": "scatter",
             "yAxis": 0
            },
            "spot_rate_pa": {
             "name": "Spot rate (%pa)",
             "type": "scatter",
             "yAxis": 0
            }
           },
           "showDataLabels": true,
           "sizemode": "diameter",
           "sortX": true,
           "sortY": true,
           "swappedAxes": false,
           "textFormat": "",
           "useAggregationsUi": true,
           "valuesOptions": {},
           "version": 2,
           "xAxis": {
            "labels": {
             "enabled": true
            },
            "type": "-"
           },
           "yAxis": [
            {
             "type": "-"
            },
            {
             "opposite": true,
             "type": "-"
            }
           ]
          }
         }
        ]
       },
       "datasetPreviewNameToCmdIdMap": {},
       "diffDeletes": [],
       "diffInserts": [],
       "displayType": "redashChart",
       "error": null,
       "errorDetails": null,
       "errorSummary": null,
       "errorTraceType": null,
       "finishTime": 0,
       "globalVars": {},
       "guid": "",
       "height": "356",
       "hideCommandCode": false,
       "hideCommandResult": false,
       "iPythonMetadata": null,
       "inputWidgets": {},
       "isLockedInExamMode": false,
       "latestUser": "a user",
       "latestUserId": null,
       "listResultMetadata": null,
       "metadata": {},
       "nuid": "ce300351-cc70-44f6-9501-8ceb03cad7c0",
       "origId": 0,
       "parentHierarchy": [],
       "pivotAggregation": null,
       "pivotColumns": null,
       "position": 9.0,
       "resultDbfsErrorMessage": null,
       "resultDbfsStatus": "INLINED_IN_TREE",
       "results": null,
       "showCommandTitle": false,
       "startTime": 0,
       "state": "input",
       "streamStates": {},
       "subcommandOptions": {
        "queryPlan": {
         "selects": [
          {
           "column": "term_yr",
           "type": "column"
          },
          {
           "column": "spot_rate_pa",
           "type": "column"
          },
          {
           "column": "fwd_rate_pa",
           "type": "column"
          }
         ]
        }
       },
       "submitTime": 0,
       "subtype": "tableResultSubCmd.visualization",
       "tableResultIndex": 0,
       "tableResultSettingsMap": {},
       "useConsistentColors": false,
       "version": "CommandV1",
       "width": "auto",
       "workflows": null,
       "xColumns": null,
       "yColumns": null
      }
     },
     "output_type": "display_data"
    }
   ],
   "source": [
    "# Sort by term_yr and keep only values needed\n",
    "df = merged_pdf.sort_values(by='term_yr')[[\"term_yr\", \"yield_decimal\"]].rename(columns={\"yield_decimal\": \"spot_rate_pa\"})\n",
    "\n",
    "# Discount Factors from spot rates\n",
    "df[\"discount_factor\"] = 1 / (1 + df[\"spot_rate_pa\"]) ** df[\"term_yr\"]\n",
    "\n",
    "# Bootstrap forward rates between adjacent terms\n",
    "fwd_rates = []\n",
    "for i in range(1, len(df)):\n",
    "    t0 = df.loc[i-1, \"term_yr\"]\n",
    "    t1 = df.loc[i, \"term_yr\"]\n",
    "    D0 = df.loc[i-1, \"discount_factor\"]\n",
    "    D1 = df.loc[i, \"discount_factor\"]\n",
    "    fwd = (D0 / D1) ** (1 / (t1 - t0)) - 1\n",
    "    fwd_rates.append((t0, t1, fwd))\n",
    "\n",
    "# Final forward rate DataFrame\n",
    "df_fwd = pd.DataFrame(fwd_rates, columns=[\"from_year\", \"term_yr\", \"fwd_rate_pa\"])[[\"term_yr\", \"fwd_rate_pa\"]]\n",
    "df = df.merge(df_fwd, on=\"term_yr\", how=\"left\")[[\"term_yr\", \"spot_rate_pa\", \"fwd_rate_pa\"]].fillna({\"fwd_rate_pa\": df[\"spot_rate_pa\"]})\n",
    "\n",
    "# Display result\n",
    "display(df)"
   ]
  },
  {
   "cell_type": "markdown",
   "metadata": {
    "application/vnd.databricks.v1+cell": {
     "cellMetadata": {},
     "inputWidgets": {},
     "nuid": "f12662fd-75a7-47e2-bcae-d8b9d9e15328",
     "showTitle": false,
     "tableResultSettingsMap": {},
     "title": ""
    }
   },
   "source": []
  }
 ],
 "metadata": {
  "application/vnd.databricks.v1+notebook": {
   "computePreferences": null,
   "dashboards": [],
   "environmentMetadata": {
    "base_environment": "",
    "environment_version": "2"
   },
   "inputWidgetPreferences": null,
   "language": "python",
   "notebookMetadata": {
    "pythonIndentUnit": 4
   },
   "notebookName": "001_modelling_riskfree_ZCB_forward_rates",
   "widgets": {}
  },
  "language_info": {
   "name": "python"
  }
 },
 "nbformat": 4,
 "nbformat_minor": 0
}
