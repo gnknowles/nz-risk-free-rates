{
 "cells": [
  {
   "cell_type": "markdown",
   "metadata": {
    "application/vnd.databricks.v1+cell": {
     "cellMetadata": {
      "byteLimit": 2048000,
      "rowLimit": 10000
     },
     "inputWidgets": {},
     "nuid": "2c572ee0-bef1-45d6-9f36-ac06a0d20ba8",
     "showTitle": false,
     "tableResultSettingsMap": {},
     "title": ""
    }
   },
   "source": [
    "## Modelling Notebook\n",
    "\n",
    "**Layer**: Silver\n",
    "\n",
    "**Domain**: Risk-free\n",
    "\n",
    "**Action**: Modelling of the zero coupon bond forward rates using observable market data"
   ]
  },
  {
   "cell_type": "code",
   "execution_count": 0,
   "metadata": {
    "application/vnd.databricks.v1+cell": {
     "cellMetadata": {
      "byteLimit": 2048000,
      "rowLimit": 10000
     },
     "inputWidgets": {},
     "nuid": "ca8fc55a-0cc6-4b2f-9750-9a4fca50a565",
     "showTitle": false,
     "tableResultSettingsMap": {},
     "title": ""
    }
   },
   "outputs": [],
   "source": [
    "import pandas as pd\n",
    "import numpy as np\n",
    "import matplotlib.pyplot as plt\n",
    "\n",
    "from scipy.interpolate import CubicSpline\n",
    "from scipy.optimize import minimize"
   ]
  },
  {
   "cell_type": "markdown",
   "metadata": {
    "application/vnd.databricks.v1+cell": {
     "cellMetadata": {
      "byteLimit": 2048000,
      "rowLimit": 10000
     },
     "inputWidgets": {},
     "nuid": "4cdab46f-2ac7-40bd-9353-6290a89f3650",
     "showTitle": false,
     "tableResultSettingsMap": {},
     "title": ""
    }
   },
   "source": [
    "## Section 1 - Load Inputs"
   ]
  },
  {
   "cell_type": "code",
   "execution_count": 0,
   "metadata": {
    "application/vnd.databricks.v1+cell": {
     "cellMetadata": {
      "byteLimit": 2048000,
      "rowLimit": 10000
     },
     "inputWidgets": {},
     "nuid": "7c5be35b-0ca8-4062-85fc-c5c265d2299c",
     "showTitle": false,
     "tableResultSettingsMap": {},
     "title": ""
    }
   },
   "outputs": [],
   "source": [
    "# Set as a parameter here for now\n",
    "as_of_date = '2025-06-30'"
   ]
  },
  {
   "cell_type": "code",
   "execution_count": 0,
   "metadata": {
    "application/vnd.databricks.v1+cell": {
     "cellMetadata": {
      "byteLimit": 2048000,
      "rowLimit": 10000
     },
     "inputWidgets": {},
     "nuid": "4ce15711-853d-4d1c-86d1-e7497602fc3e",
     "showTitle": false,
     "tableResultSettingsMap": {},
     "title": ""
    }
   },
   "outputs": [],
   "source": [
    "# Read cleaned and enriched inputs from silver layer\n",
    "df_yields = spark.table(\"workspace.riskfree_silver.003_rbnz_yields_transformed\") \\\n",
    "    .filter(f\"(date = '{as_of_date}' AND series = 'Official Cash Rate (OCR)' AND group = 'Cash rate') OR (date = '{as_of_date}' AND series NOT LIKE '%year%' AND group = 'Secondary market government bond yields')\")\n",
    "df_amounts   = spark.table(\"workspace.riskfree_silver.002_nzdm_govtbonds_onissue_enriched\").filter(f\"as_of_date = '{as_of_date}' AND group = 'Secondary market government bond yields'\")"
   ]
  },
  {
   "cell_type": "code",
   "execution_count": 0,
   "metadata": {
    "application/vnd.databricks.v1+cell": {
     "cellMetadata": {
      "byteLimit": 2048000,
      "rowLimit": 10000
     },
     "inputWidgets": {},
     "nuid": "b775a2b2-7c69-48f0-968a-a244d8e6a139",
     "showTitle": false,
     "tableResultSettingsMap": {},
     "title": ""
    }
   },
   "outputs": [
    {
     "output_type": "display_data",
     "data": {
      "text/plain": [
       "Databricks visualization. Run in Databricks to view."
      ]
     },
     "metadata": {
      "application/vnd.databricks.v1.subcommand+json": {
       "baseErrorDetails": null,
       "bindings": {},
       "collapsed": false,
       "command": "%python\n__backend_agg_display_orig = display\n__backend_agg_dfs = []\ndef __backend_agg_display_new(df):\n    __backend_agg_df_modules = [\"pandas.core.frame\", \"databricks.koalas.frame\", \"pyspark.sql.dataframe\", \"pyspark.pandas.frame\", \"pyspark.sql.connect.dataframe\"]\n    if (type(df).__module__ in __backend_agg_df_modules and type(df).__name__ == 'DataFrame') or isinstance(df, list):\n        __backend_agg_dfs.append(df)\n\ndisplay = __backend_agg_display_new\n\ndef __backend_agg_user_code_fn():\n    import base64\n    exec(base64.standard_b64decode(\"ZGlzcGxheShkZl95aWVsZHMpCmRpc3BsYXkoZGZfYW1vdW50cyk=\").decode())\n\ntry:\n    # run user code\n    __backend_agg_user_code_fn()\n\n    #reset display function\n    display = __backend_agg_display_orig\n\n    if len(__backend_agg_dfs) > 0:\n        # create a temp view\n        if type(__backend_agg_dfs[0]).__module__ == \"databricks.koalas.frame\":\n            # koalas dataframe\n            __backend_agg_dfs[0].to_spark().createOrReplaceTempView(\"DatabricksViewa05cb63\")\n        elif type(__backend_agg_dfs[0]).__module__ == \"pandas.core.frame\" or isinstance(__backend_agg_dfs[0], list):\n            # pandas dataframe\n            spark.createDataFrame(__backend_agg_dfs[0]).createOrReplaceTempView(\"DatabricksViewa05cb63\")\n        else:\n            __backend_agg_dfs[0].createOrReplaceTempView(\"DatabricksViewa05cb63\")\n        #run backend agg\n        display(spark.sql(\"\"\"WITH q AS (select * from DatabricksViewa05cb63) SELECT `term_yr`,`yield_decimal`,`series` FROM q\"\"\"))\n    else:\n        displayHTML(\"dataframe no longer exists. If you're using dataframe.display(), use display(dataframe) instead.\")\n\n\nfinally:\n    spark.sql(\"drop view if exists DatabricksViewa05cb63\")\n    display = __backend_agg_display_orig\n    del __backend_agg_display_new\n    del __backend_agg_display_orig\n    del __backend_agg_dfs\n    del __backend_agg_user_code_fn\n\n",
       "commandTitle": "Visualization 1",
       "commandType": "auto",
       "commandVersion": 0,
       "commentThread": [],
       "commentsVisible": false,
       "contentSha256Hex": null,
       "customPlotOptions": {
        "redashChart": [
         {
          "key": "type",
          "value": "CHART"
         },
         {
          "key": "options",
          "value": {
           "alignYAxesAtZero": true,
           "coefficient": 1,
           "columnConfigurationMap": {
            "series": {
             "column": "series",
             "id": "column_d122c586269"
            },
            "x": {
             "column": "term_yr",
             "id": "column_d122c586262"
            },
            "y": [
             {
              "column": "yield_decimal",
              "id": "column_d122c586267"
             }
            ]
           },
           "dateTimeFormat": "DD/MM/YYYY HH:mm",
           "direction": {
            "type": "counterclockwise"
           },
           "error_y": {
            "type": "data",
            "visible": true
           },
           "globalSeriesType": "scatter",
           "legend": {
            "traceorder": "normal"
           },
           "missingValuesAsZero": true,
           "numberFormat": "0,0.[00000]",
           "percentFormat": "0[.]00%",
           "series": {
            "error_y": {
             "type": "data",
             "visible": true
            },
            "stacking": null
           },
           "seriesOptions": {
            "column_d122c586264": {
             "type": "scatter",
             "yAxis": 0
            },
            "yield_decimal": {
             "type": "scatter",
             "yAxis": 0
            }
           },
           "showDataLabels": false,
           "sizemode": "diameter",
           "sortX": true,
           "sortY": true,
           "swappedAxes": false,
           "textFormat": "",
           "useAggregationsUi": true,
           "valuesOptions": {},
           "version": 2,
           "xAxis": {
            "labels": {
             "enabled": true
            },
            "title": {
             "text": "Term (years)"
            },
            "type": "-"
           },
           "yAxis": [
            {
             "title": {
              "text": "Spot Yield (%pa)"
             },
             "type": "-"
            },
            {
             "opposite": true,
             "type": "-"
            }
           ]
          }
         }
        ]
       },
       "datasetPreviewNameToCmdIdMap": {},
       "diffDeletes": [],
       "diffInserts": [],
       "displayType": "redashChart",
       "error": null,
       "errorDetails": null,
       "errorSummary": null,
       "errorTraceType": null,
       "finishTime": 0,
       "globalVars": {},
       "guid": "",
       "height": "471",
       "hideCommandCode": false,
       "hideCommandResult": false,
       "iPythonMetadata": null,
       "inputWidgets": {},
       "isLockedInExamMode": false,
       "latestUser": "a user",
       "latestUserId": null,
       "listResultMetadata": null,
       "metadata": {
        "byteLimit": 2048000,
        "rowLimit": 10000
       },
       "nuid": "daf78c94-9406-4389-bfce-f1f7cff2fb08",
       "origId": 0,
       "parentHierarchy": [],
       "pivotAggregation": null,
       "pivotColumns": null,
       "position": 4.5,
       "resultDbfsErrorMessage": null,
       "resultDbfsStatus": "INLINED_IN_TREE",
       "results": null,
       "showCommandTitle": false,
       "startTime": 0,
       "state": "input",
       "streamStates": {},
       "subcommandOptions": {
        "queryPlan": {
         "selects": [
          {
           "column": "term_yr",
           "type": "column"
          },
          {
           "column": "yield_decimal",
           "type": "column"
          },
          {
           "column": "series",
           "type": "column"
          }
         ]
        }
       },
       "submitTime": 0,
       "subtype": "tableResultSubCmd.visualization",
       "tableResultIndex": 0,
       "tableResultSettingsMap": {},
       "useConsistentColors": false,
       "version": "CommandV1",
       "width": "auto",
       "workflows": null,
       "xColumns": null,
       "yColumns": null
      }
     },
     "output_type": "display_data"
    },
    {
     "output_type": "display_data",
     "data": {
      "text/plain": [
       "Databricks visualization. Run in Databricks to view."
      ]
     },
     "metadata": {
      "application/vnd.databricks.v1.subcommand+json": {
       "baseErrorDetails": null,
       "bindings": {},
       "collapsed": false,
       "command": "%python\n__backend_agg_display_orig = display\n__backend_agg_dfs = []\ndef __backend_agg_display_new(df):\n    __backend_agg_df_modules = [\"pandas.core.frame\", \"databricks.koalas.frame\", \"pyspark.sql.dataframe\", \"pyspark.pandas.frame\", \"pyspark.sql.connect.dataframe\"]\n    if (type(df).__module__ in __backend_agg_df_modules and type(df).__name__ == 'DataFrame') or isinstance(df, list):\n        __backend_agg_dfs.append(df)\n\ndisplay = __backend_agg_display_new\n\ndef __backend_agg_user_code_fn():\n    import base64\n    exec(base64.standard_b64decode(\"ZGlzcGxheShkZl95aWVsZHMpCmRpc3BsYXkoZGZfYW1vdW50cyk=\").decode())\n\ntry:\n    # run user code\n    __backend_agg_user_code_fn()\n\n    #reset display function\n    display = __backend_agg_display_orig\n\n    if len(__backend_agg_dfs) > 1:\n        # create a temp view\n        if type(__backend_agg_dfs[1]).__module__ == \"databricks.koalas.frame\":\n            # koalas dataframe\n            __backend_agg_dfs[1].to_spark().createOrReplaceTempView(\"DatabricksView8b2466d\")\n        elif type(__backend_agg_dfs[1]).__module__ == \"pandas.core.frame\" or isinstance(__backend_agg_dfs[1], list):\n            # pandas dataframe\n            spark.createDataFrame(__backend_agg_dfs[1]).createOrReplaceTempView(\"DatabricksView8b2466d\")\n        else:\n            __backend_agg_dfs[1].createOrReplaceTempView(\"DatabricksView8b2466d\")\n        #run backend agg\n        display(spark.sql(\"\"\"WITH q AS (select * from DatabricksView8b2466d) SELECT DATE_TRUNC('YEAR',`maturity`) `column_d122c586278`,SUM(`market_bonds_m`) `column_d122c586276` FROM q GROUP BY `column_d122c586278`\"\"\"))\n    else:\n        displayHTML(\"dataframe no longer exists. If you're using dataframe.display(), use display(dataframe) instead.\")\n\n\nfinally:\n    spark.sql(\"drop view if exists DatabricksView8b2466d\")\n    display = __backend_agg_display_orig\n    del __backend_agg_display_new\n    del __backend_agg_display_orig\n    del __backend_agg_dfs\n    del __backend_agg_user_code_fn\n\n",
       "commandTitle": "Visualization 1",
       "commandType": "auto",
       "commandVersion": 0,
       "commentThread": [],
       "commentsVisible": false,
       "contentSha256Hex": null,
       "customPlotOptions": {
        "redashChart": [
         {
          "key": "type",
          "value": "CHART"
         },
         {
          "key": "options",
          "value": {
           "alignYAxesAtZero": true,
           "coefficient": 1,
           "columnConfigurationMap": {
            "x": {
             "column": "maturity",
             "id": "column_d122c586278",
             "transform": "YEAR_LEVEL"
            },
            "y": [
             {
              "column": "market_bonds_m",
              "id": "column_d122c586276",
              "transform": "SUM"
             }
            ]
           },
           "dateTimeFormat": "DD/MM/YYYY HH:mm",
           "direction": {
            "type": "counterclockwise"
           },
           "error_y": {
            "type": "data",
            "visible": true
           },
           "globalSeriesType": "column",
           "isAggregationOn": true,
           "legend": {
            "traceorder": "normal"
           },
           "missingValuesAsZero": true,
           "numberFormat": "0,0.[00000]",
           "percentFormat": "0[.]00%",
           "series": {
            "error_y": {
             "type": "data",
             "visible": true
            },
            "stacking": null
           },
           "seriesOptions": {
            "column_d122c586276": {
             "type": "column",
             "yAxis": 0
            }
           },
           "showDataLabels": false,
           "sizemode": "diameter",
           "sortX": true,
           "sortY": true,
           "swappedAxes": false,
           "textFormat": "",
           "useAggregationsUi": true,
           "valuesOptions": {},
           "version": 2,
           "xAxis": {
            "labels": {
             "enabled": true
            },
            "title": {
             "text": "Maturity Year"
            },
            "type": "-"
           },
           "yAxis": [
            {
             "title": {
              "text": "Market Value ($m)"
             },
             "type": "-"
            },
            {
             "opposite": true,
             "type": "-"
            }
           ]
          }
         }
        ]
       },
       "datasetPreviewNameToCmdIdMap": {},
       "diffDeletes": [],
       "diffInserts": [],
       "displayType": "redashChart",
       "error": null,
       "errorDetails": null,
       "errorSummary": null,
       "errorTraceType": null,
       "finishTime": 0,
       "globalVars": {},
       "guid": "",
       "height": "auto",
       "hideCommandCode": false,
       "hideCommandResult": false,
       "iPythonMetadata": null,
       "inputWidgets": {},
       "isLockedInExamMode": false,
       "latestUser": "a user",
       "latestUserId": null,
       "listResultMetadata": null,
       "metadata": {
        "byteLimit": 2048000,
        "rowLimit": 10000
       },
       "nuid": "6c0c8a1b-a8ac-4ab8-8c57-71bff7ebd9df",
       "origId": 0,
       "parentHierarchy": [],
       "pivotAggregation": null,
       "pivotColumns": null,
       "position": 4.5,
       "resultDbfsErrorMessage": null,
       "resultDbfsStatus": "INLINED_IN_TREE",
       "results": null,
       "showCommandTitle": false,
       "startTime": 0,
       "state": "input",
       "streamStates": {},
       "subcommandOptions": {
        "queryPlan": {
         "groups": [
          {
           "column": "column_d122c586278",
           "type": "column"
          }
         ],
         "selects": [
          {
           "alias": "column_d122c586278",
           "args": [
            {
             "column": "maturity",
             "type": "column"
            },
            {
             "string": "YEAR",
             "type": "string"
            }
           ],
           "function": "DATE_TRUNC",
           "type": "function"
          },
          {
           "alias": "column_d122c586276",
           "args": [
            {
             "column": "market_bonds_m",
             "type": "column"
            }
           ],
           "function": "SUM",
           "type": "function"
          }
         ]
        }
       },
       "submitTime": 0,
       "subtype": "tableResultSubCmd.visualization",
       "tableResultIndex": 1,
       "tableResultSettingsMap": {},
       "useConsistentColors": false,
       "version": "CommandV1",
       "width": "auto",
       "workflows": null,
       "xColumns": null,
       "yColumns": null
      }
     },
     "output_type": "display_data"
    }
   ],
   "source": [
    "display(df_yields)\n",
    "display(df_amounts)"
   ]
  },
  {
   "cell_type": "markdown",
   "metadata": {
    "application/vnd.databricks.v1+cell": {
     "cellMetadata": {
      "byteLimit": 2048000,
      "rowLimit": 10000
     },
     "inputWidgets": {},
     "nuid": "138f9a6b-713e-4f90-8fcd-1d82c90e1642",
     "showTitle": false,
     "tableResultSettingsMap": {},
     "title": ""
    }
   },
   "source": [
    "## Section 2 - Pre-processing of data"
   ]
  },
  {
   "cell_type": "code",
   "execution_count": 0,
   "metadata": {
    "application/vnd.databricks.v1+cell": {
     "cellMetadata": {
      "byteLimit": 2048000,
      "rowLimit": 10000
     },
     "inputWidgets": {},
     "nuid": "132aca61-7e0b-423e-9da3-5752f5f0baad",
     "showTitle": false,
     "tableResultSettingsMap": {},
     "title": ""
    }
   },
   "outputs": [],
   "source": [
    "# Convert spark to pandas for modelling\n",
    "pdf_yields = df_yields.toPandas()\n",
    "pdf_amounts = df_amounts.toPandas()\n",
    "\n",
    "# Merge the dataframes based on series_id\n",
    "merged_pdf = pdf_yields.merge(pdf_amounts, on='series_id', how='left')"
   ]
  },
  {
   "cell_type": "markdown",
   "metadata": {
    "application/vnd.databricks.v1+cell": {
     "cellMetadata": {
      "byteLimit": 2048000,
      "rowLimit": 10000
     },
     "inputWidgets": {},
     "nuid": "55d8607a-0ad9-400e-8b73-876af01f1c2f",
     "showTitle": false,
     "tableResultSettingsMap": {},
     "title": ""
    }
   },
   "source": [
    "## Section 3 - Bootstrapping of zero-coupon forward rates\n",
    "\n",
    "The one-month forward rate is determined from the one-month Treasury bill.\n",
    "\n",
    "Nominal Government bonds are decomposed into maturity and individual coupon payments to produce a set of equivalent zero-coupon nominal bonds maturing on the 15th of the month\n",
    "\n",
    "A forward rate is determined for the shortest nominal Government bond, for the period up until the first nominal bond matures. For the period between the first nominal bond and the nominal second bond a forward rate is determined so that the second nominal bond market value is equalled using the previous forward rates as well. This process is repeated to solve for each successive forward rate until all nominal bonds have been valued."
   ]
  },
  {
   "cell_type": "code",
   "execution_count": 0,
   "metadata": {
    "application/vnd.databricks.v1+cell": {
     "cellMetadata": {
      "byteLimit": 2048000,
      "rowLimit": 10000
     },
     "inputWidgets": {},
     "nuid": "0eec683a-6b30-43f8-a9e2-e0688ba0e8e1",
     "showTitle": false,
     "tableResultSettingsMap": {},
     "title": ""
    }
   },
   "outputs": [],
   "source": [
    "# Sort by term_yr and keep only values needed\n",
    "df = merged_pdf.sort_values(by='term_yr')[[\"term_yr\", \"yield_decimal\"]].rename(columns={\"yield_decimal\": \"spot_rate_pa\"})\n",
    "\n",
    "# Discount Factors from spot rates\n",
    "df[\"discount_factor\"] = 1 / (1 + df[\"spot_rate_pa\"]) ** df[\"term_yr\"]\n",
    "\n",
    "# Bootstrap forward rates between adjacent terms\n",
    "fwd_rates = []\n",
    "for i in range(1, len(df)):\n",
    "    t0 = df.loc[i-1, \"term_yr\"]\n",
    "    t1 = df.loc[i, \"term_yr\"]\n",
    "    D0 = df.loc[i-1, \"discount_factor\"]\n",
    "    D1 = df.loc[i, \"discount_factor\"]\n",
    "    fwd = (D0 / D1) ** (1 / (t1 - t0)) - 1\n",
    "    fwd_rates.append((t0, t1, fwd))\n",
    "\n",
    "# Final forward rate DataFrame\n",
    "df_fwd = pd.DataFrame(fwd_rates, columns=[\"from_year\", \"term_yr\", \"fwd_rate_bootstrapped\"])[[\"term_yr\", \"fwd_rate_bootstrapped\"]]\n",
    "df_bootstrapped = df.merge(df_fwd, on=\"term_yr\", how=\"left\")[[\"term_yr\", \"spot_rate_pa\", \"fwd_rate_bootstrapped\"]].fillna({\"fwd_rate_bootstrapped\": df[\"spot_rate_pa\"]})\n",
    "\n",
    "display(df_bootstrapped)"
   ]
  },
  {
   "cell_type": "code",
   "execution_count": 0,
   "metadata": {
    "application/vnd.databricks.v1+cell": {
     "cellMetadata": {
      "byteLimit": 2048000,
      "rowLimit": 10000
     },
     "inputWidgets": {},
     "nuid": "f97226ea-a03d-4504-b4db-b3f0540309c0",
     "showTitle": false,
     "tableResultSettingsMap": {},
     "title": ""
    }
   },
   "outputs": [],
   "source": [
    "# Plotting\n",
    "plt.figure(figsize=(15, 6))\n",
    "plt.scatter(df_bootstrapped[\"term_yr\"], df_bootstrapped[\"spot_rate_pa\"], color='blue', label='Spot Rate (pa)')\n",
    "plt.step(df_bootstrapped[\"term_yr\"], df_bootstrapped[\"fwd_rate_bootstrapped\"], where='post', color='red', label='Forward Rate (bootstrapped)')\n",
    "\n",
    "plt.xlabel('Term Year')\n",
    "plt.ylabel('Rate')\n",
    "plt.title('Spot Rates and Bootstrapped Forward Rates')\n",
    "plt.legend()\n",
    "plt.grid(True)\n",
    "plt.show()"
   ]
  },
  {
   "cell_type": "markdown",
   "metadata": {
    "application/vnd.databricks.v1+cell": {
     "cellMetadata": {
      "byteLimit": 2048000,
      "rowLimit": 10000
     },
     "inputWidgets": {},
     "nuid": "f12662fd-75a7-47e2-bcae-d8b9d9e15328",
     "showTitle": false,
     "tableResultSettingsMap": {},
     "title": ""
    }
   },
   "source": [
    "## Section 4 - Curve fitting and interpolation\n",
    "\n",
    "The process is to fit a curve of forward rates to the zero-coupon portfolio of available bonds. The parameters of the fitted curve are determined by solving to minimize the least squares differences of the resulting fitted spot rates with the actual market spot rates. Two-, three- and six-month Treasury bill rates are used in addition to nominal Government bonds.\n",
    "\n",
    "Market yields are weighted by the lesser of the amount available in the market, which excludes the amounts held by the Reserve Bank of New Zealand (RBNZ) and the Earthquake Commission (which is not usually traded) and $4 billion. This means that implied forward rates automatically give less weight to those bonds which represent a smaller proportion of the tradeable market.\n",
    "\n",
    "The curve fitted is a cubic spline on the forward rates with 4 knots. This is fairly standard methodology with enough flexibility to fit most yield curves. There is some judgment involved in selecting the position of the knots, but this also gives a little flexibility to cope with any anomalies that may be present in the yield curve without changing the fundamental principles."
   ]
  },
  {
   "cell_type": "code",
   "execution_count": 0,
   "metadata": {
    "application/vnd.databricks.v1+cell": {
     "cellMetadata": {
      "byteLimit": 2048000,
      "rowLimit": 10000
     },
     "inputWidgets": {},
     "nuid": "25278c90-e700-4929-a4bc-835f35499edd",
     "showTitle": false,
     "tableResultSettingsMap": {},
     "title": ""
    }
   },
   "outputs": [],
   "source": [
    "# Sort by term_yr and keep only values needed\n",
    "df = merged_pdf.sort_values(by='term_yr')[[\"term_yr\", \"yield_decimal\", \"market_bonds_m\"]].rename(columns={\"yield_decimal\": \"spot_rate_pa\"})\n",
    "\n",
    "# Set a default high weight to T-bills and OCR with no weight\n",
    "df[\"weight\"] = np.where(\n",
    "    df[\"market_bonds_m\"].isnull(),\n",
    "    4e4,\n",
    "    np.minimum(df[\"market_bonds_m\"], 4e9)\n",
    ")\n",
    "\n",
    "# Exclude OCR\n",
    "df = df[df[\"term_yr\"] > 0]\n",
    "\n",
    "df"
   ]
  },
  {
   "cell_type": "markdown",
   "metadata": {
    "application/vnd.databricks.v1+cell": {
     "cellMetadata": {
      "byteLimit": 2048000,
      "rowLimit": 10000
     },
     "inputWidgets": {},
     "nuid": "cde5dd47-7d48-43f6-8b41-6fd2eaf32116",
     "showTitle": false,
     "tableResultSettingsMap": {},
     "title": ""
    }
   },
   "source": [
    "Objective Function: Minimize Weighted Squared Errors"
   ]
  },
  {
   "cell_type": "code",
   "execution_count": 0,
   "metadata": {
    "application/vnd.databricks.v1+cell": {
     "cellMetadata": {
      "byteLimit": 2048000,
      "rowLimit": 10000
     },
     "inputWidgets": {},
     "nuid": "bfb18a59-8747-489b-854c-4997df9d5b2a",
     "showTitle": false,
     "tableResultSettingsMap": {},
     "title": ""
    }
   },
   "outputs": [],
   "source": [
    "# We'll fit forward rates at those knots, and interpolate in between\n",
    "def fit_forward_curve(knot_fwd_rates):\n",
    "    # Build cubic spline forward curve\n",
    "    spline = CubicSpline(knots, knot_fwd_rates, bc_type='natural', extrapolate=True)\n",
    "    \n",
    "    # Calculate model discount factors from forward rates\n",
    "    times = df[\"term_yr\"].values\n",
    "    fwd_vals = spline(times)\n",
    "\n",
    "    # Prevent negative rates\n",
    "    fwd_vals = np.clip(fwd_vals, 0.0001, None)\n",
    "\n",
    "    discount_factors = np.exp(-np.cumsum(fwd_vals * np.gradient(times)))  # Numerical integral\n",
    "\n",
    "    # Model spot rate = ln(1 / D(t)) / t\n",
    "    spot_model = -np.log(discount_factors) / times\n",
    "\n",
    "    # Weighted squared error\n",
    "    spot_market = df[\"spot_rate_pa\"].values\n",
    "    weights = df[\"weight\"].values\n",
    "    error = np.sum(weights * (spot_model - spot_market) ** 2)\n",
    "\n",
    "    return error"
   ]
  },
  {
   "cell_type": "markdown",
   "metadata": {
    "application/vnd.databricks.v1+cell": {
     "cellMetadata": {
      "byteLimit": 2048000,
      "rowLimit": 10000
     },
     "inputWidgets": {},
     "nuid": "a93050ec-224b-4103-bc26-46497ece4d3e",
     "showTitle": false,
     "tableResultSettingsMap": {},
     "title": ""
    }
   },
   "source": [
    "Solve for Knot Parameters"
   ]
  },
  {
   "cell_type": "code",
   "execution_count": 0,
   "metadata": {
    "application/vnd.databricks.v1+cell": {
     "cellMetadata": {
      "byteLimit": 2048000,
      "rowLimit": 10000
     },
     "inputWidgets": {},
     "nuid": "626b2094-9206-4b52-9f5b-cc5d70c1f8d3",
     "showTitle": false,
     "tableResultSettingsMap": {},
     "title": ""
    }
   },
   "outputs": [],
   "source": [
    "# Choose 1–2 fixed anchor knots for stability\n",
    "base_knots = [0.083, 1.0]\n",
    "\n",
    "# Add quantile-based knots for adaptiveness\n",
    "quantile_knots = np.quantile(df[\"term_yr\"], [0.5, 0.9])\n",
    "\n",
    "knots = np.sort(np.concatenate([base_knots, quantile_knots]))\n",
    "knots"
   ]
  },
  {
   "cell_type": "code",
   "execution_count": 0,
   "metadata": {
    "application/vnd.databricks.v1+cell": {
     "cellMetadata": {
      "byteLimit": 2048000,
      "rowLimit": 10000
     },
     "inputWidgets": {},
     "nuid": "7bd83eab-e313-44dd-9b67-e1d727c38c2f",
     "showTitle": false,
     "tableResultSettingsMap": {},
     "title": ""
    }
   },
   "outputs": [],
   "source": [
    "# Initial guess: flat forward rate\n",
    "init_guess = np.full(len(knots), 0.02)\n",
    "\n",
    "# Minimize the weighted squared error between model and market spot rates\n",
    "res = minimize(fit_forward_curve, init_guess, method=\"L-BFGS-B\", bounds=[(0.0001, 0.1)] * len(knots))\n",
    "\n",
    "# Extract the fitted forward rates at the knot points\n",
    "fitted_knot_rates = res.x\n",
    "\n",
    "fitted_knot_rates"
   ]
  },
  {
   "cell_type": "markdown",
   "metadata": {
    "application/vnd.databricks.v1+cell": {
     "cellMetadata": {
      "byteLimit": 2048000,
      "rowLimit": 10000
     },
     "inputWidgets": {},
     "nuid": "c61f1115-8e6e-43bd-82f6-59c9470e9a9d",
     "showTitle": false,
     "tableResultSettingsMap": {},
     "title": ""
    }
   },
   "source": [
    "Output Full Forward Curve"
   ]
  },
  {
   "cell_type": "code",
   "execution_count": 0,
   "metadata": {
    "application/vnd.databricks.v1+cell": {
     "cellMetadata": {
      "byteLimit": 2048000,
      "rowLimit": 10000
     },
     "inputWidgets": {},
     "nuid": "5b9aed58-5d9d-456a-a58c-843b0ce116cb",
     "showTitle": false,
     "tableResultSettingsMap": {
      "0": {
       "dataGridStateBlob": "{\"version\":1,\"tableState\":{\"columnPinning\":{\"left\":[\"#row_number#\"],\"right\":[]},\"columnSizing\":{\"term_yr\":158,\"spot_rate_pa\":187},\"columnVisibility\":{}},\"settings\":{\"columns\":{}},\"syncTimestamp\":1752073237022}",
       "filterBlob": null,
       "queryPlanFiltersBlob": null,
       "tableResultIndex": 0
      }
     },
     "title": ""
    }
   },
   "outputs": [
    {
     "output_type": "display_data",
     "data": {
      "text/plain": [
       "Databricks visualization. Run in Databricks to view."
      ]
     },
     "metadata": {
      "application/vnd.databricks.v1.subcommand+json": {
       "baseErrorDetails": null,
       "bindings": {},
       "collapsed": false,
       "command": "%python\n__backend_agg_display_orig = display\n__backend_agg_dfs = []\ndef __backend_agg_display_new(df):\n    __backend_agg_df_modules = [\"pandas.core.frame\", \"databricks.koalas.frame\", \"pyspark.sql.dataframe\", \"pyspark.pandas.frame\", \"pyspark.sql.connect.dataframe\"]\n    if (type(df).__module__ in __backend_agg_df_modules and type(df).__name__ == 'DataFrame') or isinstance(df, list):\n        __backend_agg_dfs.append(df)\n\ndisplay = __backend_agg_display_new\n\ndef __backend_agg_user_code_fn():\n    import base64\n    exec(base64.standard_b64decode(\"ZndkX2N1cnZlID0gQ3ViaWNTcGxpbmUoa25vdHMsIGZpdHRlZF9rbm90X3JhdGVzLCBiY190eXBlPSduYXR1cmFsJywgZXh0cmFwb2xhdGU9VHJ1ZSkKCiMgR2VuZXJhdGUgZGVuc2Ugb3V0cHV0Cm1heF9maXRfdGVybSA9IGRmWyJ0ZXJtX3lyIl0ubWF4KCkKb3V0cHV0X3Rlcm1zID0gbnAuYXJhbmdlKDAuMSwgbWF4X2ZpdF90ZXJtICsgMC4yNSwgMC4yNSkKCmZ3ZF9yYXRlcyA9IGZ3ZF9jdXJ2ZShvdXRwdXRfdGVybXMpCmZ3ZF9yYXRlcyA9IG5wLmNsaXAoZndkX3JhdGVzLCAwLjAwMDEsIE5vbmUpCgojIENvbXB1dGUgZGlzY291bnQgZmFjdG9ycyBhbmQgc3BvdCByYXRlcwpkZWx0YSA9IG5wLmdyYWRpZW50KG91dHB1dF90ZXJtcykKZGlzY291bnRfZmFjdG9ycyA9IG5wLmV4cCgtbnAuY3Vtc3VtKGZ3ZF9yYXRlcyAqIGRlbHRhKSkKc3BvdF9yYXRlcyA9IC1ucC5sb2coZGlzY291bnRfZmFjdG9ycykgLyBvdXRwdXRfdGVybXMKCmRmX2N1YmljID0gcGQuRGF0YUZyYW1lKHsKICAgICJ0ZXJtX3lyIjogb3V0cHV0X3Rlcm1zLAogICAgImZ3ZF9yYXRlX2N1YmljIjogZndkX3JhdGVzLAogICAgInNwb3RfcmF0ZXNfcGFfY3ViaWMiOiBzcG90X3JhdGVzCn0pCgpkZl9hbGwgPSBwZC5tZXJnZV9hc29mKGRmX2N1YmljLCBkZl9ib290c3RyYXBwZWQsIG9uPSJ0ZXJtX3lyIiwgZGlyZWN0aW9uPSJuZWFyZXN0IikKCmRmX2FsbCA9IGRmX2FsbC5zb3J0X3ZhbHVlcyhieT0idGVybV95ciIpLmJmaWxsKCkKCmRpc3BsYXkoZGZfYWxsKQ==\").decode())\n\ntry:\n    # run user code\n    __backend_agg_user_code_fn()\n\n    #reset display function\n    display = __backend_agg_display_orig\n\n    if len(__backend_agg_dfs) > 0:\n        # create a temp view\n        if type(__backend_agg_dfs[0]).__module__ == \"databricks.koalas.frame\":\n            # koalas dataframe\n            __backend_agg_dfs[0].to_spark().createOrReplaceTempView(\"DatabricksViewe8fc0cd\")\n        elif type(__backend_agg_dfs[0]).__module__ == \"pandas.core.frame\" or isinstance(__backend_agg_dfs[0], list):\n            # pandas dataframe\n            spark.createDataFrame(__backend_agg_dfs[0]).createOrReplaceTempView(\"DatabricksViewe8fc0cd\")\n        else:\n            __backend_agg_dfs[0].createOrReplaceTempView(\"DatabricksViewe8fc0cd\")\n        #run backend agg\n        display(spark.sql(\"\"\"WITH q AS (select * from DatabricksViewe8fc0cd) SELECT `term_yr`,SUM(`fwd_rate_cubic`) `column_d122c586366`,SUM(`spot_rates_pa_cubic`) `column_d122c586369` FROM q GROUP BY `term_yr`\"\"\"))\n    else:\n        displayHTML(\"dataframe no longer exists. If you're using dataframe.display(), use display(dataframe) instead.\")\n\n\nfinally:\n    spark.sql(\"drop view if exists DatabricksViewe8fc0cd\")\n    display = __backend_agg_display_orig\n    del __backend_agg_display_new\n    del __backend_agg_display_orig\n    del __backend_agg_dfs\n    del __backend_agg_user_code_fn\n\n",
       "commandTitle": "Visualization 1",
       "commandType": "auto",
       "commandVersion": 0,
       "commentThread": [],
       "commentsVisible": false,
       "contentSha256Hex": null,
       "customPlotOptions": {
        "redashChart": [
         {
          "key": "type",
          "value": "CHART"
         },
         {
          "key": "options",
          "value": {
           "alignYAxesAtZero": true,
           "coefficient": 1,
           "columnConfigurationMap": {
            "x": {
             "column": "term_yr",
             "id": "column_d122c586364"
            },
            "y": [
             {
              "column": "fwd_rate_cubic",
              "id": "column_d122c586366",
              "transform": "SUM"
             },
             {
              "column": "spot_rates_pa_cubic",
              "id": "column_d122c586369",
              "transform": "SUM"
             },
             {
              "column": "fwd_rate_bootstrapped",
              "id": "column_d122c586391",
              "transform": "SUM"
             }
            ]
           },
           "dateTimeFormat": "DD/MM/YYYY HH:mm",
           "direction": {
            "type": "counterclockwise"
           },
           "error_y": {
            "type": "data",
            "visible": true
           },
           "globalSeriesType": "line",
           "isAggregationOn": true,
           "legend": {
            "traceorder": "normal"
           },
           "missingValuesAsZero": true,
           "numberFormat": "0,0.[00000]",
           "percentFormat": "0[.]00%",
           "series": {
            "error_y": {
             "type": "data",
             "visible": true
            },
            "stacking": null
           },
           "seriesOptions": {
            "column_d122c586366": {
             "name": "Forward rate cubic",
             "type": "line",
             "yAxis": 0
            },
            "column_d122c586369": {
             "name": "Spot rate cubic",
             "type": "line",
             "yAxis": 0
            },
            "column_d122c586380": {
             "type": "line",
             "yAxis": 0
            },
            "column_d122c586383": {
             "type": "line",
             "yAxis": 0
            },
            "column_d122c586391": {
             "name": "Forward rate bootstrapped",
             "type": "line",
             "yAxis": 0
            }
           },
           "showDataLabels": false,
           "sizemode": "diameter",
           "sortX": true,
           "sortY": true,
           "swappedAxes": false,
           "textFormat": "",
           "useAggregationsUi": true,
           "valuesOptions": {},
           "version": 2,
           "xAxis": {
            "labels": {
             "enabled": true
            },
            "type": "-"
           },
           "yAxis": [
            {
             "type": "-"
            },
            {
             "opposite": true,
             "type": "-"
            }
           ]
          }
         }
        ]
       },
       "datasetPreviewNameToCmdIdMap": {},
       "diffDeletes": [],
       "diffInserts": [],
       "displayType": "redashChart",
       "error": null,
       "errorDetails": null,
       "errorSummary": null,
       "errorTraceType": null,
       "finishTime": 0,
       "globalVars": {},
       "guid": "",
       "height": "auto",
       "hideCommandCode": false,
       "hideCommandResult": false,
       "iPythonMetadata": null,
       "inputWidgets": {},
       "isLockedInExamMode": false,
       "latestUser": "a user",
       "latestUserId": null,
       "listResultMetadata": null,
       "metadata": {
        "byteLimit": 2048000,
        "rowLimit": 10000
       },
       "nuid": "0c0332cc-4db6-4b44-ade9-c547f26b6f04",
       "origId": 0,
       "parentHierarchy": [],
       "pivotAggregation": null,
       "pivotColumns": null,
       "position": 11.0,
       "resultDbfsErrorMessage": null,
       "resultDbfsStatus": "INLINED_IN_TREE",
       "results": null,
       "showCommandTitle": false,
       "startTime": 0,
       "state": "input",
       "streamStates": {},
       "subcommandOptions": {
        "queryPlan": {
         "groups": [
          {
           "column": "term_yr",
           "type": "column"
          }
         ],
         "selects": [
          {
           "column": "term_yr",
           "type": "column"
          },
          {
           "alias": "column_d122c586366",
           "args": [
            {
             "column": "fwd_rate_cubic",
             "type": "column"
            }
           ],
           "function": "SUM",
           "type": "function"
          },
          {
           "alias": "column_d122c586369",
           "args": [
            {
             "column": "spot_rates_pa_cubic",
             "type": "column"
            }
           ],
           "function": "SUM",
           "type": "function"
          },
          {
           "alias": "column_d122c586391",
           "args": [
            {
             "column": "fwd_rate_bootstrapped",
             "type": "column"
            }
           ],
           "function": "SUM",
           "type": "function"
          }
         ]
        }
       },
       "submitTime": 0,
       "subtype": "tableResultSubCmd.visualization",
       "tableResultIndex": 0,
       "tableResultSettingsMap": {},
       "useConsistentColors": false,
       "version": "CommandV1",
       "width": "auto",
       "workflows": null,
       "xColumns": null,
       "yColumns": null
      }
     },
     "output_type": "display_data"
    }
   ],
   "source": [
    "fwd_curve = CubicSpline(knots, fitted_knot_rates, bc_type='natural', extrapolate=True)\n",
    "\n",
    "# Generate dense output\n",
    "max_fit_term = df[\"term_yr\"].max()\n",
    "output_terms = np.arange(0.1, max_fit_term + 0.25, 0.25)\n",
    "\n",
    "fwd_rates = fwd_curve(output_terms)\n",
    "fwd_rates = np.clip(fwd_rates, 0.0001, 0.055)\n",
    "\n",
    "# Compute discount factors and spot rates\n",
    "delta = np.gradient(output_terms)\n",
    "discount_factors = np.exp(-np.cumsum(fwd_rates * delta))\n",
    "spot_rates = -np.log(discount_factors) / output_terms\n",
    "\n",
    "df_cubic = pd.DataFrame({\n",
    "    \"term_yr\": output_terms,\n",
    "    \"fwd_rate_cubic\": fwd_rates,\n",
    "    \"spot_rates_pa_cubic\": spot_rates\n",
    "})\n",
    "\n",
    "df_all = pd.merge_asof(df_cubic, df_bootstrapped, on=\"term_yr\", direction=\"nearest\")\n",
    "\n",
    "df_all = df_all.sort_values(by=\"term_yr\").bfill()\n",
    "\n",
    "display(df_all)"
   ]
  },
  {
   "cell_type": "markdown",
   "metadata": {
    "application/vnd.databricks.v1+cell": {
     "cellMetadata": {},
     "inputWidgets": {},
     "nuid": "50f2112e-fd57-4d0f-89ed-61a8a1b065af",
     "showTitle": false,
     "tableResultSettingsMap": {},
     "title": ""
    }
   },
   "source": [
    "## Section 5 - Bridging to long-term riskfree rate\n",
    "\n",
    "Bridging is required from the last observable market data point, out to a long-term assumption. The methodology applies linear interpolation over 10 years from the maturity date of\n",
    "the last nominal Government bond, subject to a maximum slope of 0.05% pa."
   ]
  },
  {
   "cell_type": "code",
   "execution_count": 0,
   "metadata": {
    "application/vnd.databricks.v1+cell": {
     "cellMetadata": {
      "byteLimit": 2048000,
      "rowLimit": 10000
     },
     "inputWidgets": {},
     "nuid": "d6b88fbd-722b-4967-8b9c-775a22d79360",
     "showTitle": false,
     "tableResultSettingsMap": {
      "0": {
       "dataGridStateBlob": "{\"version\":1,\"tableState\":{\"columnPinning\":{\"left\":[\"#row_number#\"],\"right\":[]},\"columnSizing\":{\"term_yr\":142},\"columnVisibility\":{}},\"settings\":{\"columns\":{}},\"syncTimestamp\":1752075927924}",
       "filterBlob": null,
       "queryPlanFiltersBlob": null,
       "tableResultIndex": 0
      }
     },
     "title": ""
    }
   },
   "outputs": [
    {
     "output_type": "display_data",
     "data": {
      "text/plain": [
       "Databricks visualization. Run in Databricks to view."
      ]
     },
     "metadata": {
      "application/vnd.databricks.v1.subcommand+json": {
       "baseErrorDetails": null,
       "bindings": {},
       "collapsed": false,
       "command": "%python\n__backend_agg_display_orig = display\n__backend_agg_dfs = []\ndef __backend_agg_display_new(df):\n    __backend_agg_df_modules = [\"pandas.core.frame\", \"databricks.koalas.frame\", \"pyspark.sql.dataframe\", \"pyspark.pandas.frame\", \"pyspark.sql.connect.dataframe\"]\n    if (type(df).__module__ in __backend_agg_df_modules and type(df).__name__ == 'DataFrame') or isinstance(df, list):\n        __backend_agg_dfs.append(df)\n\ndisplay = __backend_agg_display_new\n\ndef __backend_agg_user_code_fn():\n    import base64\n    exec(base64.standard_b64decode(\"IyAtLS0gU3RlcCAxOiBJZGVudGlmeSBsYXN0IGJvbmQgbWF0dXJpdHkgLS0tClRfbGFzdCA9IGRmWyJ0ZXJtX3lyIl0ubWF4KCkgICMgTWF4IG1hdHVyaXR5IGluIHlvdXIgZGF0YSwgZS5nLiAyMCBvciAyNQpUX2V4dGVuc2lvbiA9IDEwClRfbWF4ID0gVF9sYXN0ICsgVF9leHRlbnNpb24KbG9uZ190ZXJtX3JhdGUgPSAwLjA0OAptYXhfc2xvcGUgPSAwLjAwMDUgICMgMC4wNSUgcGVyIHllYXIKCiMgLS0tIFN0ZXAgMjogR2V0IGxhc3QgZm9yd2FyZCByYXRlIHZhbHVlIGJlZm9yZSBUX2xhc3QgLS0tCmxhc3RfZndkX3JhdGUgPSBkZl9hbGxbZGZfYWxsWyJ0ZXJtX3lyIl0gPD0gVF9sYXN0XVsiZndkX3JhdGVfY3ViaWMiXS5pbG9jWy0xXQoKIyAtLS0gU3RlcCAzOiBDb21wdXRlIGNhcHBlZCBzbG9wZSAtLS0KcmF3X3Nsb3BlID0gKGxvbmdfdGVybV9yYXRlIC0gbGFzdF9md2RfcmF0ZSkgLyBUX2V4dGVuc2lvbgppZiByYXdfc2xvcGUgPj0gMDoKICAgIHNsb3BlID0gbWluKHJhd19zbG9wZSwgbWF4X3Nsb3BlKQplbHNlOgogICAgc2xvcGUgPSBtYXgocmF3X3Nsb3BlLCAtbWF4X3Nsb3BlKQoKIyAtLS0gU3RlcCA0OiBCdWlsZCBleHRlbnNpb24gdGVybXMgYW5kIGZvcndhcmQgcmF0ZXMgLS0tCmV4dGVuc2lvbl90ZXJtcyA9IG5wLmFyYW5nZShUX2xhc3QgKyAwLjI1LCBUX21heCArIDAuMjUsIDAuMjUpCmV4dGVuc2lvbl9md2RfcmF0ZXMgPSBsYXN0X2Z3ZF9yYXRlICsgc2xvcGUgKiAoZXh0ZW5zaW9uX3Rlcm1zIC0gVF9sYXN0KQoKIyAtLS0gU3RlcCA1OiBDb21iaW5lIHdpdGggb3JpZ2luYWwgZm9yd2FyZCBjdXJ2ZSAtLS0KZnVsbF90ZXJtcyA9IG5wLmNvbmNhdGVuYXRlKFtkZl9hbGxbInRlcm1feXIiXSwgZXh0ZW5zaW9uX3Rlcm1zXSkKZnVsbF9md2RfcmF0ZXMgPSBucC5jb25jYXRlbmF0ZShbZGZfYWxsWyJmd2RfcmF0ZV9jdWJpYyJdLCBleHRlbnNpb25fZndkX3JhdGVzXSkKCiMgLS0tIFN0ZXAgNjogQ29tcHV0ZSBzcG90IHJhdGVzIGZyb20gZXh0ZW5kZWQgZm9yd2FyZCBjdXJ2ZSAtLS0KZGVsdGEgPSBucC5ncmFkaWVudChmdWxsX3Rlcm1zKQpkaXNjb3VudF9mYWN0b3JzID0gbnAuZXhwKC1ucC5jdW1zdW0oZnVsbF9md2RfcmF0ZXMgKiBkZWx0YSkpCnNwb3RfcmF0ZXMgPSAtbnAubG9nKGRpc2NvdW50X2ZhY3RvcnMpIC8gZnVsbF90ZXJtcwoKIyAtLS0gU3RlcCA3OiBGaW5hbCBvdXRwdXQgLS0tCmRmX2V4dGVuZGVkID0gcGQuRGF0YUZyYW1lKHsKICAgICJ0ZXJtX3lyIjogZnVsbF90ZXJtcywKICAgICJmd2RfcmF0ZV9leHRlbmRlZCI6IGZ1bGxfZndkX3JhdGVzLAogICAgInNwb3RfcmF0ZV9leHRlbmRlZCI6IHNwb3RfcmF0ZXMKfSkKCmRpc3BsYXkoZGZfZXh0ZW5kZWQp\").decode())\n\ntry:\n    # run user code\n    __backend_agg_user_code_fn()\n\n    #reset display function\n    display = __backend_agg_display_orig\n\n    if len(__backend_agg_dfs) > 0:\n        # create a temp view\n        if type(__backend_agg_dfs[0]).__module__ == \"databricks.koalas.frame\":\n            # koalas dataframe\n            __backend_agg_dfs[0].to_spark().createOrReplaceTempView(\"DatabricksView1af58c2\")\n        elif type(__backend_agg_dfs[0]).__module__ == \"pandas.core.frame\" or isinstance(__backend_agg_dfs[0], list):\n            # pandas dataframe\n            spark.createDataFrame(__backend_agg_dfs[0]).createOrReplaceTempView(\"DatabricksView1af58c2\")\n        else:\n            __backend_agg_dfs[0].createOrReplaceTempView(\"DatabricksView1af58c2\")\n        #run backend agg\n        display(spark.sql(\"\"\"WITH q AS (select * from DatabricksView1af58c2) SELECT `term_yr`,SUM(`fwd_rate_extended`) `column_d122c586407`,SUM(`spot_rate_extended`) `column_d122c586410` FROM q GROUP BY `term_yr`\"\"\"))\n    else:\n        displayHTML(\"dataframe no longer exists. If you're using dataframe.display(), use display(dataframe) instead.\")\n\n\nfinally:\n    spark.sql(\"drop view if exists DatabricksView1af58c2\")\n    display = __backend_agg_display_orig\n    del __backend_agg_display_new\n    del __backend_agg_display_orig\n    del __backend_agg_dfs\n    del __backend_agg_user_code_fn\n\n",
       "commandTitle": "Visualization 1",
       "commandType": "auto",
       "commandVersion": 0,
       "commentThread": [],
       "commentsVisible": false,
       "contentSha256Hex": null,
       "customPlotOptions": {
        "redashChart": [
         {
          "key": "type",
          "value": "CHART"
         },
         {
          "key": "options",
          "value": {
           "alignYAxesAtZero": true,
           "coefficient": 1,
           "columnConfigurationMap": {
            "x": {
             "column": "term_yr",
             "id": "column_d122c586405"
            },
            "y": [
             {
              "column": "fwd_rate_extended",
              "id": "column_d122c586407",
              "transform": "SUM"
             },
             {
              "column": "spot_rate_extended",
              "id": "column_d122c586410",
              "transform": "SUM"
             }
            ]
           },
           "dateTimeFormat": "DD/MM/YYYY HH:mm",
           "direction": {
            "type": "counterclockwise"
           },
           "error_y": {
            "type": "data",
            "visible": true
           },
           "globalSeriesType": "line",
           "isAggregationOn": true,
           "legend": {
            "traceorder": "normal"
           },
           "missingValuesAsZero": true,
           "numberFormat": "0,0.[00000]",
           "percentFormat": "0[.]00%",
           "series": {
            "error_y": {
             "type": "data",
             "visible": true
            },
            "stacking": null
           },
           "seriesOptions": {
            "column_d122c586407": {
             "name": "Forward rate",
             "type": "line",
             "yAxis": 0
            },
            "column_d122c586410": {
             "name": "Spot rate",
             "type": "line",
             "yAxis": 0
            }
           },
           "showDataLabels": false,
           "sizemode": "diameter",
           "sortX": true,
           "sortY": true,
           "swappedAxes": false,
           "textFormat": "",
           "useAggregationsUi": true,
           "valuesOptions": {},
           "version": 2,
           "xAxis": {
            "labels": {
             "enabled": true
            },
            "type": "-"
           },
           "yAxis": [
            {
             "type": "-"
            },
            {
             "opposite": true,
             "type": "-"
            }
           ]
          }
         }
        ]
       },
       "datasetPreviewNameToCmdIdMap": {},
       "diffDeletes": [],
       "diffInserts": [],
       "displayType": "redashChart",
       "error": null,
       "errorDetails": null,
       "errorSummary": null,
       "errorTraceType": null,
       "finishTime": 0,
       "globalVars": {},
       "guid": "",
       "height": "422",
       "hideCommandCode": false,
       "hideCommandResult": false,
       "iPythonMetadata": null,
       "inputWidgets": {},
       "isLockedInExamMode": false,
       "latestUser": "a user",
       "latestUserId": null,
       "listResultMetadata": null,
       "metadata": {},
       "nuid": "ee7c0f8b-d3f9-4f43-9e63-58f17a5efedb",
       "origId": 0,
       "parentHierarchy": [],
       "pivotAggregation": null,
       "pivotColumns": null,
       "position": 13.0,
       "resultDbfsErrorMessage": null,
       "resultDbfsStatus": "INLINED_IN_TREE",
       "results": null,
       "showCommandTitle": false,
       "startTime": 0,
       "state": "input",
       "streamStates": {},
       "subcommandOptions": {
        "queryPlan": {
         "groups": [
          {
           "column": "term_yr",
           "type": "column"
          }
         ],
         "selects": [
          {
           "column": "term_yr",
           "type": "column"
          },
          {
           "alias": "column_d122c586407",
           "args": [
            {
             "column": "fwd_rate_extended",
             "type": "column"
            }
           ],
           "function": "SUM",
           "type": "function"
          },
          {
           "alias": "column_d122c586410",
           "args": [
            {
             "column": "spot_rate_extended",
             "type": "column"
            }
           ],
           "function": "SUM",
           "type": "function"
          }
         ]
        }
       },
       "submitTime": 0,
       "subtype": "tableResultSubCmd.visualization",
       "tableResultIndex": 0,
       "tableResultSettingsMap": {},
       "useConsistentColors": false,
       "version": "CommandV1",
       "width": "1435",
       "workflows": null,
       "xColumns": null,
       "yColumns": null
      }
     },
     "output_type": "display_data"
    }
   ],
   "source": [
    "# --- Step 1: Identify last bond maturity ---\n",
    "T_last = df[\"term_yr\"].max()  # Max maturity in your data, e.g. 20 or 25\n",
    "long_term_rate = 0.048\n",
    "max_slope = 0.0005  # 0.05% per year\n",
    "\n",
    "# --- Step 2: Get last forward rate value before T_last ---\n",
    "last_fwd_rate = df_all[df_all[\"term_yr\"] <= T_last][\"fwd_rate_cubic\"].iloc[-1]\n",
    "\n",
    "# Calculate required years to ramp at max slope\n",
    "required_years = abs(long_term_rate - last_fwd_rate) / max_slope\n",
    "T_extension = max(10, np.ceil(required_years * 4) / 4)  # Round up to nearest 0.25\n",
    "T_max = T_last + T_extension\n",
    "\n",
    "# --- Step 3: Compute capped slope ---\n",
    "raw_slope = (long_term_rate - last_fwd_rate) / T_extension\n",
    "if raw_slope >= 0:\n",
    "    slope = min(raw_slope, max_slope)\n",
    "else:\n",
    "    slope = max(raw_slope, -max_slope)\n",
    "\n",
    "# --- Step 4: Build extension terms and forward rates ---\n",
    "extension_terms = np.arange(T_last + 0.25, T_max + 0.25, 0.25)\n",
    "extension_fwd_rates = last_fwd_rate + slope * (extension_terms - T_last)\n",
    "\n",
    "# --- Step 5: Combine with original forward curve ---\n",
    "full_terms = np.concatenate([df_all[\"term_yr\"], extension_terms])\n",
    "full_fwd_rates = np.concatenate([df_all[\"fwd_rate_cubic\"], extension_fwd_rates])\n",
    "\n",
    "# Expand to 100 years at 0.25 intervals\n",
    "full_terms = np.arange(0.1, 100.25, 0.25)\n",
    "\n",
    "# Forward fill the forward rates\n",
    "full_fwd_rates = np.interp(full_terms, np.concatenate([df_all[\"term_yr\"], extension_terms]), np.concatenate([df_all[\"fwd_rate_cubic\"], extension_fwd_rates]))\n",
    "\n",
    "# --- Step 6: Compute spot rates from extended forward curve ---\n",
    "delta = np.gradient(full_terms)\n",
    "discount_factors = np.exp(-np.cumsum(full_fwd_rates * delta))\n",
    "spot_rates = -np.log(discount_factors) / full_terms\n",
    "\n",
    "# --- Step 7: Final output ---\n",
    "df_extended = pd.DataFrame({\n",
    "    \"term_yr\": full_terms,\n",
    "    \"fwd_rate_extended\": full_fwd_rates,\n",
    "    \"spot_rate_extended\": spot_rates\n",
    "})\n",
    "\n",
    "display(df_extended)"
   ]
  }
 ],
 "metadata": {
  "application/vnd.databricks.v1+notebook": {
   "computePreferences": null,
   "dashboards": [],
   "environmentMetadata": {
    "base_environment": "",
    "environment_version": "2"
   },
   "inputWidgetPreferences": null,
   "language": "python",
   "notebookMetadata": {
    "pythonIndentUnit": 4
   },
   "notebookName": "001_modelling_riskfree_ZCB_forward_rates",
   "widgets": {}
  },
  "language_info": {
   "name": "python"
  }
 },
 "nbformat": 4,
 "nbformat_minor": 0
}
