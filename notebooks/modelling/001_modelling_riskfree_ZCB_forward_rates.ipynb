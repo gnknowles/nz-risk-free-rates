{
 "cells": [
  {
   "cell_type": "markdown",
   "metadata": {
    "application/vnd.databricks.v1+cell": {
     "cellMetadata": {
      "byteLimit": 2048000,
      "rowLimit": 10000
     },
     "inputWidgets": {},
     "nuid": "2c572ee0-bef1-45d6-9f36-ac06a0d20ba8",
     "showTitle": false,
     "tableResultSettingsMap": {},
     "title": ""
    }
   },
   "source": [
    "## Modelling Notebook\n",
    "\n",
    "**Layer**: Silver\n",
    "\n",
    "**Domain**: Risk-free\n",
    "\n",
    "**Action**: Modelling of the zero coupon bond forward rates using observable market data"
   ]
  },
  {
   "cell_type": "code",
   "execution_count": 0,
   "metadata": {
    "application/vnd.databricks.v1+cell": {
     "cellMetadata": {
      "byteLimit": 2048000,
      "rowLimit": 10000
     },
     "inputWidgets": {},
     "nuid": "ca8fc55a-0cc6-4b2f-9750-9a4fca50a565",
     "showTitle": false,
     "tableResultSettingsMap": {},
     "title": ""
    }
   },
   "outputs": [],
   "source": [
    "import pandas as pd\n",
    "import numpy as np\n",
    "import matplotlib.pyplot as plt\n",
    "from pyspark.sql import functions as F\n",
    "\n",
    "from scipy.interpolate import CubicSpline\n",
    "from scipy.optimize import minimize\n",
    "from scipy.integrate import cumulative_trapezoid"
   ]
  },
  {
   "cell_type": "code",
   "execution_count": 0,
   "metadata": {
    "application/vnd.databricks.v1+cell": {
     "cellMetadata": {
      "byteLimit": 2048000,
      "rowLimit": 10000
     },
     "inputWidgets": {},
     "nuid": "c51bb5c5-3b45-412d-b8e9-70a739432d1f",
     "showTitle": false,
     "tableResultSettingsMap": {},
     "title": ""
    }
   },
   "outputs": [],
   "source": [
    "# import user defined functions class\n",
    "from src.utils import ModellingFunctions"
   ]
  },
  {
   "cell_type": "markdown",
   "metadata": {
    "application/vnd.databricks.v1+cell": {
     "cellMetadata": {
      "byteLimit": 2048000,
      "rowLimit": 10000
     },
     "inputWidgets": {},
     "nuid": "4cdab46f-2ac7-40bd-9353-6290a89f3650",
     "showTitle": false,
     "tableResultSettingsMap": {},
     "title": ""
    }
   },
   "source": [
    "## Section 1 - Load Inputs"
   ]
  },
  {
   "cell_type": "code",
   "execution_count": 0,
   "metadata": {
    "application/vnd.databricks.v1+cell": {
     "cellMetadata": {
      "byteLimit": 2048000,
      "rowLimit": 10000
     },
     "inputWidgets": {},
     "nuid": "7c5be35b-0ca8-4062-85fc-c5c265d2299c",
     "showTitle": false,
     "tableResultSettingsMap": {},
     "title": ""
    }
   },
   "outputs": [],
   "source": [
    "# Set as a parameters here for now\n",
    "as_of_date = '2025-06-30'\n",
    "knots = [0.25, 1.0, 11.0625, 22.5833]\n",
    "OCR_weight = 4e9\n",
    "govtbond_cap_weight = 4e9\n",
    "error_optimisation_method = 'L-BFGS-B'\n",
    "long_term_rate=0.048\n",
    "bridging_max_slope=0.0005\n",
    "bridging_min_extension_years=10\n",
    "bridging_extension_freq=0.25\n",
    "curve_max_extension=100"
   ]
  },
  {
   "cell_type": "code",
   "execution_count": 0,
   "metadata": {
    "application/vnd.databricks.v1+cell": {
     "cellMetadata": {
      "byteLimit": 2048000,
      "rowLimit": 10000
     },
     "inputWidgets": {},
     "nuid": "7bc2b9d6-0b25-4778-9909-aa8b55fc802d",
     "showTitle": false,
     "tableResultSettingsMap": {},
     "title": ""
    }
   },
   "outputs": [],
   "source": [
    "# Select bonds to include based on series id\n",
    "series_id_incl = [\n",
    "    'INM.DP1.N',\n",
    "    'INM.DG19.NS2605',\n",
    "    'INM.DG19.NS2704',\n",
    "    'INM.DG19.NS2805',\n",
    "    'INM.DG19.NS2904',\n",
    "    'INM.DG19.NS3005',\n",
    "    'INM.DG19.NS3105',\n",
    "    'INM.DG19.NS3205',\n",
    "    'INM.DG19.NS3304',\n",
    "    'INM.DG19.NS3405',\n",
    "    'INM.DG19.NS3505',\n",
    "    'INM.DG19.NS3605',\n",
    "    'INM.DG19.NS3704',\n",
    "    'INM.DG19.NS4105',\n",
    "    'INM.DG19.NS5105',\n",
    "    'INM.DG19.NS5405'\n",
    "]"
   ]
  },
  {
   "cell_type": "code",
   "execution_count": 0,
   "metadata": {
    "application/vnd.databricks.v1+cell": {
     "cellMetadata": {
      "byteLimit": 2048000,
      "rowLimit": 10000
     },
     "inputWidgets": {},
     "nuid": "4ce15711-853d-4d1c-86d1-e7497602fc3e",
     "showTitle": false,
     "tableResultSettingsMap": {},
     "title": ""
    }
   },
   "outputs": [],
   "source": [
    "# Read cleaned and enriched inputs from silver layer\n",
    "df_yields = spark.table(\"workspace.riskfree_silver.003_rbnz_yields_transformed\") \\\n",
    "    .filter((F.col(\"date\") == as_of_date) & (F.col(\"series_id\").isin(series_id_incl)))\n",
    "\n",
    "df_amounts = spark.table(\"workspace.riskfree_silver.002_nzdm_govtbonds_onissue_enriched\") \\\n",
    "    .filter((F.col(\"as_of_date\") == as_of_date) & (F.col(\"series_id\").isin(series_id_incl)))"
   ]
  },
  {
   "cell_type": "code",
   "execution_count": 0,
   "metadata": {
    "application/vnd.databricks.v1+cell": {
     "cellMetadata": {
      "byteLimit": 2048000,
      "rowLimit": 10000
     },
     "inputWidgets": {},
     "nuid": "b775a2b2-7c69-48f0-968a-a244d8e6a139",
     "showTitle": false,
     "tableResultSettingsMap": {
      "0": {
       "dataGridStateBlob": "{\"version\":1,\"tableState\":{\"columnPinning\":{\"left\":[\"#row_number#\"],\"right\":[]},\"columnSizing\":{\"series_id\":155},\"columnVisibility\":{}},\"settings\":{\"columns\":{}},\"syncTimestamp\":1752136610078}",
       "filterBlob": null,
       "queryPlanFiltersBlob": null,
       "tableResultIndex": 0
      },
      "1": {
       "dataGridStateBlob": "{\"version\":1,\"tableState\":{\"columnPinning\":{\"left\":[\"#row_number#\"],\"right\":[]},\"columnSizing\":{\"group\":286},\"columnVisibility\":{}},\"settings\":{\"columns\":{}},\"syncTimestamp\":1752136579904}",
       "filterBlob": null,
       "queryPlanFiltersBlob": null,
       "tableResultIndex": 1
      }
     },
     "title": ""
    }
   },
   "outputs": [
    {
     "output_type": "display_data",
     "data": {
      "text/plain": [
       "Databricks visualization. Run in Databricks to view."
      ]
     },
     "metadata": {
      "application/vnd.databricks.v1.subcommand+json": {
       "baseErrorDetails": null,
       "bindings": {},
       "collapsed": false,
       "command": "%python\n__backend_agg_display_orig = display\n__backend_agg_dfs = []\ndef __backend_agg_display_new(df):\n    __backend_agg_df_modules = [\"pandas.core.frame\", \"databricks.koalas.frame\", \"pyspark.sql.dataframe\", \"pyspark.pandas.frame\", \"pyspark.sql.connect.dataframe\"]\n    if (type(df).__module__ in __backend_agg_df_modules and type(df).__name__ == 'DataFrame') or isinstance(df, list):\n        __backend_agg_dfs.append(df)\n\ndisplay = __backend_agg_display_new\n\ndef __backend_agg_user_code_fn():\n    import base64\n    exec(base64.standard_b64decode(\"ZGlzcGxheShkZl95aWVsZHMpCmRpc3BsYXkoZGZfYW1vdW50cyk=\").decode())\n\ntry:\n    # run user code\n    __backend_agg_user_code_fn()\n\n    #reset display function\n    display = __backend_agg_display_orig\n\n    if len(__backend_agg_dfs) > 0:\n        # create a temp view\n        if type(__backend_agg_dfs[0]).__module__ == \"databricks.koalas.frame\":\n            # koalas dataframe\n            __backend_agg_dfs[0].to_spark().createOrReplaceTempView(\"DatabricksViewb8f3802\")\n        elif type(__backend_agg_dfs[0]).__module__ == \"pandas.core.frame\" or isinstance(__backend_agg_dfs[0], list):\n            # pandas dataframe\n            spark.createDataFrame(__backend_agg_dfs[0]).createOrReplaceTempView(\"DatabricksViewb8f3802\")\n        else:\n            __backend_agg_dfs[0].createOrReplaceTempView(\"DatabricksViewb8f3802\")\n        #run backend agg\n        display(spark.sql(\"\"\"WITH q AS (select * from DatabricksViewb8f3802) SELECT `term_yr`,`yield_decimal`,`series` FROM q\"\"\"))\n    else:\n        displayHTML(\"dataframe no longer exists. If you're using dataframe.display(), use display(dataframe) instead.\")\n\n\nfinally:\n    spark.sql(\"drop view if exists DatabricksViewb8f3802\")\n    display = __backend_agg_display_orig\n    del __backend_agg_display_new\n    del __backend_agg_display_orig\n    del __backend_agg_dfs\n    del __backend_agg_user_code_fn\n\n",
       "commandTitle": "Visualization 1",
       "commandType": "auto",
       "commandVersion": 0,
       "commentThread": [],
       "commentsVisible": false,
       "contentSha256Hex": null,
       "customPlotOptions": {
        "redashChart": [
         {
          "key": "type",
          "value": "CHART"
         },
         {
          "key": "options",
          "value": {
           "alignYAxesAtZero": true,
           "coefficient": 1,
           "columnConfigurationMap": {
            "series": {
             "column": "series",
             "id": "column_d122c586269"
            },
            "x": {
             "column": "term_yr",
             "id": "column_d122c586262"
            },
            "y": [
             {
              "column": "yield_decimal",
              "id": "column_d122c586267"
             }
            ]
           },
           "dateTimeFormat": "DD/MM/YYYY HH:mm",
           "direction": {
            "type": "counterclockwise"
           },
           "error_y": {
            "type": "data",
            "visible": true
           },
           "globalSeriesType": "scatter",
           "legend": {
            "traceorder": "normal"
           },
           "missingValuesAsZero": true,
           "numberFormat": "0,0.[00000]",
           "percentFormat": "0[.]00%",
           "series": {
            "error_y": {
             "type": "data",
             "visible": true
            },
            "stacking": null
           },
           "seriesOptions": {
            "column_d122c586264": {
             "type": "scatter",
             "yAxis": 0
            },
            "yield_decimal": {
             "type": "scatter",
             "yAxis": 0
            }
           },
           "showDataLabels": false,
           "sizemode": "diameter",
           "sortX": true,
           "sortY": true,
           "swappedAxes": false,
           "textFormat": "",
           "useAggregationsUi": true,
           "valuesOptions": {},
           "version": 2,
           "xAxis": {
            "labels": {
             "enabled": true
            },
            "title": {
             "text": "Term (years)"
            },
            "type": "-"
           },
           "yAxis": [
            {
             "title": {
              "text": "Spot Yield (%pa)"
             },
             "type": "-"
            },
            {
             "opposite": true,
             "type": "-"
            }
           ]
          }
         }
        ]
       },
       "datasetPreviewNameToCmdIdMap": {},
       "diffDeletes": [],
       "diffInserts": [],
       "displayType": "redashChart",
       "error": null,
       "errorDetails": null,
       "errorSummary": null,
       "errorTraceType": null,
       "finishTime": 0,
       "globalVars": {},
       "guid": "",
       "height": "471",
       "hideCommandCode": false,
       "hideCommandResult": false,
       "iPythonMetadata": null,
       "inputWidgets": {},
       "isLockedInExamMode": false,
       "latestUser": "a user",
       "latestUserId": null,
       "listResultMetadata": null,
       "metadata": {
        "byteLimit": 2048000,
        "rowLimit": 10000
       },
       "nuid": "daf78c94-9406-4389-bfce-f1f7cff2fb08",
       "origId": 0,
       "parentHierarchy": [],
       "pivotAggregation": null,
       "pivotColumns": null,
       "position": 4.5,
       "resultDbfsErrorMessage": null,
       "resultDbfsStatus": "INLINED_IN_TREE",
       "results": null,
       "showCommandTitle": false,
       "startTime": 0,
       "state": "input",
       "streamStates": {},
       "subcommandOptions": {
        "queryPlan": {
         "selects": [
          {
           "column": "term_yr",
           "type": "column"
          },
          {
           "column": "yield_decimal",
           "type": "column"
          },
          {
           "column": "series",
           "type": "column"
          }
         ]
        }
       },
       "submitTime": 0,
       "subtype": "tableResultSubCmd.visualization",
       "tableResultIndex": 0,
       "tableResultSettingsMap": {},
       "useConsistentColors": false,
       "version": "CommandV1",
       "width": "auto",
       "workflows": null,
       "xColumns": null,
       "yColumns": null
      }
     },
     "output_type": "display_data"
    },
    {
     "output_type": "display_data",
     "data": {
      "text/plain": [
       "Databricks visualization. Run in Databricks to view."
      ]
     },
     "metadata": {
      "application/vnd.databricks.v1.subcommand+json": {
       "baseErrorDetails": null,
       "bindings": {},
       "collapsed": false,
       "command": "%python\n__backend_agg_display_orig = display\n__backend_agg_dfs = []\ndef __backend_agg_display_new(df):\n    __backend_agg_df_modules = [\"pandas.core.frame\", \"databricks.koalas.frame\", \"pyspark.sql.dataframe\", \"pyspark.pandas.frame\", \"pyspark.sql.connect.dataframe\"]\n    if (type(df).__module__ in __backend_agg_df_modules and type(df).__name__ == 'DataFrame') or isinstance(df, list):\n        __backend_agg_dfs.append(df)\n\ndisplay = __backend_agg_display_new\n\ndef __backend_agg_user_code_fn():\n    import base64\n    exec(base64.standard_b64decode(\"ZGlzcGxheShkZl95aWVsZHMpCmRpc3BsYXkoZGZfYW1vdW50cyk=\").decode())\n\ntry:\n    # run user code\n    __backend_agg_user_code_fn()\n\n    #reset display function\n    display = __backend_agg_display_orig\n\n    if len(__backend_agg_dfs) > 1:\n        # create a temp view\n        if type(__backend_agg_dfs[1]).__module__ == \"databricks.koalas.frame\":\n            # koalas dataframe\n            __backend_agg_dfs[1].to_spark().createOrReplaceTempView(\"DatabricksView540d6a9\")\n        elif type(__backend_agg_dfs[1]).__module__ == \"pandas.core.frame\" or isinstance(__backend_agg_dfs[1], list):\n            # pandas dataframe\n            spark.createDataFrame(__backend_agg_dfs[1]).createOrReplaceTempView(\"DatabricksView540d6a9\")\n        else:\n            __backend_agg_dfs[1].createOrReplaceTempView(\"DatabricksView540d6a9\")\n        #run backend agg\n        display(spark.sql(\"\"\"WITH q AS (select * from DatabricksView540d6a9) SELECT DATE_TRUNC('YEAR',`maturity`) `column_d122c586278`,SUM(`market_bonds_m`) `column_d122c586276` FROM q GROUP BY `column_d122c586278`\"\"\"))\n    else:\n        displayHTML(\"dataframe no longer exists. If you're using dataframe.display(), use display(dataframe) instead.\")\n\n\nfinally:\n    spark.sql(\"drop view if exists DatabricksView540d6a9\")\n    display = __backend_agg_display_orig\n    del __backend_agg_display_new\n    del __backend_agg_display_orig\n    del __backend_agg_dfs\n    del __backend_agg_user_code_fn\n\n",
       "commandTitle": "Visualization 1",
       "commandType": "auto",
       "commandVersion": 0,
       "commentThread": [],
       "commentsVisible": false,
       "contentSha256Hex": null,
       "customPlotOptions": {
        "redashChart": [
         {
          "key": "type",
          "value": "CHART"
         },
         {
          "key": "options",
          "value": {
           "alignYAxesAtZero": true,
           "coefficient": 1,
           "columnConfigurationMap": {
            "x": {
             "column": "maturity",
             "id": "column_d122c586278",
             "transform": "YEAR_LEVEL"
            },
            "y": [
             {
              "column": "market_bonds_m",
              "id": "column_d122c586276",
              "transform": "SUM"
             }
            ]
           },
           "dateTimeFormat": "DD/MM/YYYY HH:mm",
           "direction": {
            "type": "counterclockwise"
           },
           "error_y": {
            "type": "data",
            "visible": true
           },
           "globalSeriesType": "column",
           "isAggregationOn": true,
           "legend": {
            "traceorder": "normal"
           },
           "missingValuesAsZero": true,
           "numberFormat": "0,0.[00000]",
           "percentFormat": "0[.]00%",
           "series": {
            "error_y": {
             "type": "data",
             "visible": true
            },
            "stacking": null
           },
           "seriesOptions": {
            "column_d122c586276": {
             "type": "column",
             "yAxis": 0
            }
           },
           "showDataLabels": false,
           "sizemode": "diameter",
           "sortX": true,
           "sortY": true,
           "swappedAxes": false,
           "textFormat": "",
           "useAggregationsUi": true,
           "valuesOptions": {},
           "version": 2,
           "xAxis": {
            "labels": {
             "enabled": true
            },
            "title": {
             "text": "Maturity Year"
            },
            "type": "-"
           },
           "yAxis": [
            {
             "title": {
              "text": "Market Value ($m)"
             },
             "type": "-"
            },
            {
             "opposite": true,
             "type": "-"
            }
           ]
          }
         }
        ]
       },
       "datasetPreviewNameToCmdIdMap": {},
       "diffDeletes": [],
       "diffInserts": [],
       "displayType": "redashChart",
       "error": null,
       "errorDetails": null,
       "errorSummary": null,
       "errorTraceType": null,
       "finishTime": 0,
       "globalVars": {},
       "guid": "",
       "height": "auto",
       "hideCommandCode": false,
       "hideCommandResult": false,
       "iPythonMetadata": null,
       "inputWidgets": {},
       "isLockedInExamMode": false,
       "latestUser": "a user",
       "latestUserId": null,
       "listResultMetadata": null,
       "metadata": {
        "byteLimit": 2048000,
        "rowLimit": 10000
       },
       "nuid": "6c0c8a1b-a8ac-4ab8-8c57-71bff7ebd9df",
       "origId": 0,
       "parentHierarchy": [],
       "pivotAggregation": null,
       "pivotColumns": null,
       "position": 4.5,
       "resultDbfsErrorMessage": null,
       "resultDbfsStatus": "INLINED_IN_TREE",
       "results": null,
       "showCommandTitle": false,
       "startTime": 0,
       "state": "input",
       "streamStates": {},
       "subcommandOptions": {
        "queryPlan": {
         "groups": [
          {
           "column": "column_d122c586278",
           "type": "column"
          }
         ],
         "selects": [
          {
           "alias": "column_d122c586278",
           "args": [
            {
             "column": "maturity",
             "type": "column"
            },
            {
             "string": "YEAR",
             "type": "string"
            }
           ],
           "function": "DATE_TRUNC",
           "type": "function"
          },
          {
           "alias": "column_d122c586276",
           "args": [
            {
             "column": "market_bonds_m",
             "type": "column"
            }
           ],
           "function": "SUM",
           "type": "function"
          }
         ]
        }
       },
       "submitTime": 0,
       "subtype": "tableResultSubCmd.visualization",
       "tableResultIndex": 1,
       "tableResultSettingsMap": {},
       "useConsistentColors": false,
       "version": "CommandV1",
       "width": "auto",
       "workflows": null,
       "xColumns": null,
       "yColumns": null
      }
     },
     "output_type": "display_data"
    }
   ],
   "source": [
    "display(df_yields)\n",
    "display(df_amounts)"
   ]
  },
  {
   "cell_type": "markdown",
   "metadata": {
    "application/vnd.databricks.v1+cell": {
     "cellMetadata": {
      "byteLimit": 2048000,
      "rowLimit": 10000
     },
     "inputWidgets": {},
     "nuid": "138f9a6b-713e-4f90-8fcd-1d82c90e1642",
     "showTitle": false,
     "tableResultSettingsMap": {},
     "title": ""
    }
   },
   "source": [
    "## Section 2 - Pre-processing of data"
   ]
  },
  {
   "cell_type": "code",
   "execution_count": 0,
   "metadata": {
    "application/vnd.databricks.v1+cell": {
     "cellMetadata": {
      "byteLimit": 2048000,
      "rowLimit": 10000
     },
     "inputWidgets": {},
     "nuid": "132aca61-7e0b-423e-9da3-5752f5f0baad",
     "showTitle": false,
     "tableResultSettingsMap": {},
     "title": ""
    }
   },
   "outputs": [],
   "source": [
    "# Convert spark to pandas for modelling\n",
    "pdf_yields = df_yields.toPandas()\n",
    "pdf_amounts = df_amounts.toPandas()\n",
    "\n",
    "# Merge the dataframes based on series_id\n",
    "merged_pdf = pdf_yields.merge(pdf_amounts, on='series_id', how='left')\n",
    "\n",
    "# Replace term_yr with something linked to months\n",
    "merged_pdf['term_yr'] = merged_pdf['term_mth_whole'] / 12\n",
    "\n",
    "# Change term_yr 0 to 1/100 for OCR, as can't divide by 0\n",
    "merged_pdf[\"term_yr\"] = merged_pdf[\"term_yr\"].replace(0, 1/12)"
   ]
  },
  {
   "cell_type": "markdown",
   "metadata": {
    "application/vnd.databricks.v1+cell": {
     "cellMetadata": {
      "byteLimit": 2048000,
      "rowLimit": 10000
     },
     "inputWidgets": {},
     "nuid": "55d8607a-0ad9-400e-8b73-876af01f1c2f",
     "showTitle": false,
     "tableResultSettingsMap": {},
     "title": ""
    }
   },
   "source": [
    "## Section 3 - Bootstrapping of zero-coupon forward rates\n",
    "\n",
    "The one-month forward rate is determined from the one-month Treasury bill.\n",
    "\n",
    "Nominal Government bonds are decomposed into maturity and individual coupon payments to produce a set of equivalent zero-coupon nominal bonds maturing on the 15th of the month\n",
    "\n",
    "A forward rate is determined for the shortest nominal Government bond, for the period up until the first nominal bond matures. For the period between the first nominal bond and the nominal second bond a forward rate is determined so that the second nominal bond market value is equalled using the previous forward rates as well. This process is repeated to solve for each successive forward rate until all nominal bonds have been valued."
   ]
  },
  {
   "cell_type": "code",
   "execution_count": 0,
   "metadata": {
    "application/vnd.databricks.v1+cell": {
     "cellMetadata": {
      "byteLimit": 2048000,
      "rowLimit": 10000
     },
     "inputWidgets": {},
     "nuid": "0eec683a-6b30-43f8-a9e2-e0688ba0e8e1",
     "showTitle": false,
     "tableResultSettingsMap": {
      "0": {
       "dataGridStateBlob": "{\"version\":1,\"tableState\":{\"columnPinning\":{\"left\":[\"#row_number#\"],\"right\":[]},\"columnSizing\":{\"spot_rate_pa\":167},\"columnVisibility\":{}},\"settings\":{\"columns\":{}},\"syncTimestamp\":1752076842659}",
       "filterBlob": null,
       "queryPlanFiltersBlob": null,
       "tableResultIndex": 0
      }
     },
     "title": ""
    }
   },
   "outputs": [],
   "source": [
    "df_bootstrapped = ModellingFunctions.bootstrap_forward_columns(merged_pdf, term_col = \"term_yr\", spot_col = \"yield_decimal\")\n",
    "\n",
    "display(df_bootstrapped)"
   ]
  },
  {
   "cell_type": "code",
   "execution_count": 0,
   "metadata": {
    "application/vnd.databricks.v1+cell": {
     "cellMetadata": {
      "byteLimit": 2048000,
      "rowLimit": 10000
     },
     "inputWidgets": {},
     "nuid": "f97226ea-a03d-4504-b4db-b3f0540309c0",
     "showTitle": false,
     "tableResultSettingsMap": {},
     "title": ""
    }
   },
   "outputs": [],
   "source": [
    "# Plotting\n",
    "plt.figure(figsize=(15, 6))\n",
    "plt.scatter(df_bootstrapped[\"term_yr\"], df_bootstrapped[\"yield_decimal\"], color='blue', label='Spot Rate (pa)')\n",
    "plt.step(df_bootstrapped[\"term_yr\"], df_bootstrapped[\"fwd_rate_bootstrapped\"], where='post', color='red', label='Forward Rate (bootstrapped)')\n",
    "\n",
    "plt.xlabel('Term Year')\n",
    "plt.ylabel('Rate')\n",
    "plt.title('Spot Rates and Bootstrapped Forward Rates')\n",
    "plt.legend()\n",
    "plt.grid(True)\n",
    "plt.show()"
   ]
  },
  {
   "cell_type": "markdown",
   "metadata": {
    "application/vnd.databricks.v1+cell": {
     "cellMetadata": {
      "byteLimit": 2048000,
      "rowLimit": 10000
     },
     "inputWidgets": {},
     "nuid": "f12662fd-75a7-47e2-bcae-d8b9d9e15328",
     "showTitle": false,
     "tableResultSettingsMap": {},
     "title": ""
    }
   },
   "source": [
    "## Section 4 - Curve fitting and interpolation\n",
    "\n",
    "The process is to fit a curve of forward rates to the zero-coupon portfolio of available bonds. The parameters of the fitted curve are determined by solving to minimize the least squares differences of the resulting fitted spot rates with the actual market spot rates. Two-, three- and six-month Treasury bill rates are used in addition to nominal Government bonds.\n",
    "\n",
    "Market yields are weighted by the lesser of the amount available in the market, which excludes the amounts held by the Reserve Bank of New Zealand (RBNZ) and the Earthquake Commission (which is not usually traded) and $4 billion. This means that implied forward rates automatically give less weight to those bonds which represent a smaller proportion of the tradeable market.\n",
    "\n",
    "The curve fitted is a cubic spline on the forward rates with 4 knots. This is fairly standard methodology with enough flexibility to fit most yield curves. There is some judgment involved in selecting the position of the knots, but this also gives a little flexibility to cope with any anomalies that may be present in the yield curve without changing the fundamental principles."
   ]
  },
  {
   "cell_type": "code",
   "execution_count": 0,
   "metadata": {
    "application/vnd.databricks.v1+cell": {
     "cellMetadata": {
      "byteLimit": 2048000,
      "rowLimit": 10000
     },
     "inputWidgets": {},
     "nuid": "25278c90-e700-4929-a4bc-835f35499edd",
     "showTitle": false,
     "tableResultSettingsMap": {},
     "title": ""
    }
   },
   "outputs": [],
   "source": [
    "# Sort by term_yr and keep only values needed\n",
    "df = merged_pdf.sort_values(by='term_yr')[[\"term_yr\", \"yield_decimal\", \"market_bonds_m\"]].rename(columns={\"yield_decimal\": \"spot_rate_pa\"})\n",
    "\n",
    "# Set a default high weight to T-bills and OCR with no weight\n",
    "df[\"weight\"] = np.where(\n",
    "    df[\"market_bonds_m\"].isnull(),\n",
    "    OCR_weight,\n",
    "    np.minimum(df[\"market_bonds_m\"], govtbond_cap_weight)\n",
    ")\n",
    "\n",
    "df"
   ]
  },
  {
   "cell_type": "markdown",
   "metadata": {
    "application/vnd.databricks.v1+cell": {
     "cellMetadata": {
      "byteLimit": 2048000,
      "rowLimit": 10000
     },
     "inputWidgets": {},
     "nuid": "a93050ec-224b-4103-bc26-46497ece4d3e",
     "showTitle": false,
     "tableResultSettingsMap": {},
     "title": ""
    }
   },
   "source": [
    "Solve for Knot Parameters and Spline Function"
   ]
  },
  {
   "cell_type": "code",
   "execution_count": 0,
   "metadata": {
    "application/vnd.databricks.v1+cell": {
     "cellMetadata": {
      "byteLimit": 2048000,
      "rowLimit": 10000
     },
     "inputWidgets": {},
     "nuid": "7bd83eab-e313-44dd-9b67-e1d727c38c2f",
     "showTitle": false,
     "tableResultSettingsMap": {},
     "title": ""
    }
   },
   "outputs": [],
   "source": [
    "spline, fitted_rates, res = ModellingFunctions.optimize_forward_curve_spline(\n",
    "    df = df,\n",
    "    knots = knots,\n",
    "    error_func = ModellingFunctions.fit_cubic_forward_curve_error,\n",
    "    bounds=(0.0001, 0.1),\n",
    "    method=error_optimisation_method,\n",
    "    options={\"maxiter\": 200}\n",
    ")"
   ]
  },
  {
   "cell_type": "markdown",
   "metadata": {
    "application/vnd.databricks.v1+cell": {
     "cellMetadata": {
      "byteLimit": 2048000,
      "rowLimit": 10000
     },
     "inputWidgets": {},
     "nuid": "c61f1115-8e6e-43bd-82f6-59c9470e9a9d",
     "showTitle": false,
     "tableResultSettingsMap": {},
     "title": ""
    }
   },
   "source": [
    "Output Full Forward Curve"
   ]
  },
  {
   "cell_type": "code",
   "execution_count": 0,
   "metadata": {
    "application/vnd.databricks.v1+cell": {
     "cellMetadata": {
      "byteLimit": 2048000,
      "rowLimit": 10000
     },
     "inputWidgets": {},
     "nuid": "5b9aed58-5d9d-456a-a58c-843b0ce116cb",
     "showTitle": false,
     "tableResultSettingsMap": {},
     "title": ""
    }
   },
   "outputs": [],
   "source": [
    "# Generate dense output\n",
    "max_fit_term = df[\"term_yr\"].max()\n",
    "output_terms = np.arange(0, max_fit_term + 1/12, 1/12)\n",
    "fwd_rates = spline(output_terms)\n",
    "\n",
    "df_cubic = pd.DataFrame({\n",
    "    \"term_yr\": output_terms,\n",
    "    \"fwd_rate_cubic\": fwd_rates\n",
    "})\n",
    "\n",
    "df_all = pd.merge_asof(df_cubic, df_bootstrapped, on=\"term_yr\", direction=\"nearest\")\n",
    "df_all = df_all.sort_values(by=\"term_yr\").bfill()\n",
    "\n",
    "# Merge on market observed spot rates\n",
    "df_all = df_all.merge(df[[\"term_yr\", \"spot_rate_pa\"]], on=\"term_yr\", how=\"left\")\n",
    "\n",
    "display(df_all)"
   ]
  },
  {
   "cell_type": "code",
   "execution_count": 0,
   "metadata": {
    "application/vnd.databricks.v1+cell": {
     "cellMetadata": {
      "byteLimit": 2048000,
      "rowLimit": 10000
     },
     "inputWidgets": {},
     "nuid": "a562d40d-b57b-40f5-92ae-3546b4540974",
     "showTitle": false,
     "tableResultSettingsMap": {},
     "title": ""
    }
   },
   "outputs": [],
   "source": [
    "# Plotting\n",
    "plt.figure(figsize=(15, 6))\n",
    "plt.scatter(df_all[\"term_yr\"], df_all[\"spot_rate_pa\"], color='blue', label='Spot Rate (pa)')\n",
    "plt.step(df_all[\"term_yr\"], df_all[\"fwd_rate_bootstrapped\"], where='post', color='red', label='Forward Rate (bootstrapped)')\n",
    "plt.plot(df_all[\"term_yr\"], df_all[\"fwd_rate_cubic\"], color='green', label='Forward Rate (cubic)')\n",
    "\n",
    "plt.xlabel('Term Year')\n",
    "plt.ylabel('Rate')\n",
    "plt.title('Spot Rates, Bootstrapped Forward Rates and Cubic Forward Rates')\n",
    "plt.legend()\n",
    "plt.grid(True)\n",
    "plt.show()"
   ]
  },
  {
   "cell_type": "markdown",
   "metadata": {
    "application/vnd.databricks.v1+cell": {
     "cellMetadata": {
      "byteLimit": 2048000,
      "rowLimit": 10000
     },
     "inputWidgets": {},
     "nuid": "50f2112e-fd57-4d0f-89ed-61a8a1b065af",
     "showTitle": false,
     "tableResultSettingsMap": {},
     "title": ""
    }
   },
   "source": [
    "## Section 5 - Bridging to long-term riskfree rate\n",
    "\n",
    "Bridging is required from the last observable market data point, out to a long-term assumption. The methodology applies linear interpolation over 10 years from the maturity date of\n",
    "the last nominal Government bond, subject to a maximum slope of 0.05% pa."
   ]
  },
  {
   "cell_type": "code",
   "execution_count": 0,
   "metadata": {
    "application/vnd.databricks.v1+cell": {
     "cellMetadata": {
      "byteLimit": 2048000,
      "rowLimit": 10000
     },
     "inputWidgets": {},
     "nuid": "0f371bd0-dbff-411f-ab7a-f3b8c2908281",
     "showTitle": false,
     "tableResultSettingsMap": {
      "0": {
       "dataGridStateBlob": "{\"version\":1,\"tableState\":{\"columnPinning\":{\"left\":[\"#row_number#\"],\"right\":[]},\"columnSizing\":{\"term_yr\":136},\"columnVisibility\":{}},\"settings\":{\"columns\":{}},\"syncTimestamp\":1752136027528}",
       "filterBlob": null,
       "queryPlanFiltersBlob": null,
       "tableResultIndex": 0
      }
     },
     "title": ""
    }
   },
   "outputs": [
    {
     "output_type": "display_data",
     "data": {
      "text/plain": [
       "Databricks visualization. Run in Databricks to view."
      ]
     },
     "metadata": {
      "application/vnd.databricks.v1.subcommand+json": {
       "baseErrorDetails": null,
       "bindings": {},
       "collapsed": false,
       "command": "%python\n__backend_agg_display_orig = display\n__backend_agg_dfs = []\ndef __backend_agg_display_new(df):\n    __backend_agg_df_modules = [\"pandas.core.frame\", \"databricks.koalas.frame\", \"pyspark.sql.dataframe\", \"pyspark.pandas.frame\", \"pyspark.sql.connect.dataframe\"]\n    if (type(df).__module__ in __backend_agg_df_modules and type(df).__name__ == 'DataFrame') or isinstance(df, list):\n        __backend_agg_dfs.append(df)\n\ndisplay = __backend_agg_display_new\n\ndef __backend_agg_user_code_fn():\n    import base64\n    exec(base64.standard_b64decode(\"ZGZfZXh0ZW5kZWQgPSBNb2RlbGxpbmdGdW5jdGlvbnMuYnJpZGdlX2ZvcndhcmRfY3VydmVfdG9fbG9uZ3Rlcm0oCiAgICBkZl9jdXJ2ZT1kZl9hbGwsCiAgICB0ZXJtX2NvbD0gInRlcm1feXIiLAogICAgZndkX2NvbD0gImZ3ZF9yYXRlX2N1YmljIiwKICAgIGxvbmdfdGVybV9yYXRlPWxvbmdfdGVybV9yYXRlLAogICAgbWF4X3Nsb3BlPWJyaWRnaW5nX21heF9zbG9wZSwKICAgIG1pbl9leHRlbnNpb25feWVhcnM9YnJpZGdpbmdfbWluX2V4dGVuc2lvbl95ZWFycywKICAgIGV4dGVuc2lvbl9mcmVxPWJyaWRnaW5nX2V4dGVuc2lvbl9mcmVxCikKCiMgRXhwYW5kIHRvIDEwMCB5ZWFycyBhdCAxLzEyIGludGVydmFscwpmdWxsX3Rlcm1zID0gbnAuYXJhbmdlKDAsIGN1cnZlX21heF9leHRlbnNpb24sIDEvMTIpCgojIEZvcndhcmQgZmlsbCB0aGUgZm9yd2FyZCByYXRlcwpmdWxsX2Z3ZF9yYXRlcyA9IG5wLmludGVycChmdWxsX3Rlcm1zLCBkZl9leHRlbmRlZFsidGVybV95ciJdLCBkZl9leHRlbmRlZFsiZndkX3JhdGVfZXh0ZW5kZWQiXSkKCiMgRmluYWwgb3V0cHV0CmRmX2V4dGVuZGVkID0gcGQuRGF0YUZyYW1lKHsKICAgICJ0ZXJtX3lyIjogZnVsbF90ZXJtcywKICAgICJmd2RfcmF0ZV9leHRlbmRlZCI6IGZ1bGxfZndkX3JhdGVzLAp9KQoKZGlzcGxheShkZl9leHRlbmRlZCk=\").decode())\n\ntry:\n    # run user code\n    __backend_agg_user_code_fn()\n\n    #reset display function\n    display = __backend_agg_display_orig\n\n    if len(__backend_agg_dfs) > 0:\n        # create a temp view\n        if type(__backend_agg_dfs[0]).__module__ == \"databricks.koalas.frame\":\n            # koalas dataframe\n            __backend_agg_dfs[0].to_spark().createOrReplaceTempView(\"DatabricksView61d3044\")\n        elif type(__backend_agg_dfs[0]).__module__ == \"pandas.core.frame\" or isinstance(__backend_agg_dfs[0], list):\n            # pandas dataframe\n            spark.createDataFrame(__backend_agg_dfs[0]).createOrReplaceTempView(\"DatabricksView61d3044\")\n        else:\n            __backend_agg_dfs[0].createOrReplaceTempView(\"DatabricksView61d3044\")\n        #run backend agg\n        display(spark.sql(\"\"\"WITH q AS (select * from DatabricksView61d3044) SELECT `term_yr`,SUM(`fwd_rate_extended`) `column_22b577d486` FROM q GROUP BY `term_yr`\"\"\"))\n    else:\n        displayHTML(\"dataframe no longer exists. If you're using dataframe.display(), use display(dataframe) instead.\")\n\n\nfinally:\n    spark.sql(\"drop view if exists DatabricksView61d3044\")\n    display = __backend_agg_display_orig\n    del __backend_agg_display_new\n    del __backend_agg_display_orig\n    del __backend_agg_dfs\n    del __backend_agg_user_code_fn\n\n",
       "commandTitle": "Visualization 1",
       "commandType": "auto",
       "commandVersion": 0,
       "commentThread": [],
       "commentsVisible": false,
       "contentSha256Hex": null,
       "customPlotOptions": {
        "redashChart": [
         {
          "key": "type",
          "value": "CHART"
         },
         {
          "key": "options",
          "value": {
           "alignYAxesAtZero": true,
           "coefficient": 1,
           "columnConfigurationMap": {
            "x": {
             "column": "term_yr",
             "id": "column_22b577d485"
            },
            "y": [
             {
              "column": "fwd_rate_extended",
              "id": "column_22b577d486",
              "transform": "SUM"
             }
            ]
           },
           "dateTimeFormat": "DD/MM/YYYY HH:mm",
           "direction": {
            "type": "counterclockwise"
           },
           "error_y": {
            "type": "data",
            "visible": true
           },
           "globalSeriesType": "line",
           "isAggregationOn": true,
           "legend": {
            "traceorder": "normal"
           },
           "missingValuesAsZero": true,
           "numberFormat": "0,0.[00000]",
           "percentFormat": "0[.]0000%",
           "series": {
            "error_y": {
             "type": "data",
             "visible": true
            },
            "stacking": null
           },
           "seriesOptions": {
            "column_22b577d486": {
             "name": "fwd_rate_extended",
             "type": "line",
             "yAxis": 0
            }
           },
           "showDataLabels": false,
           "sizemode": "diameter",
           "sortX": true,
           "sortY": true,
           "swappedAxes": false,
           "textFormat": "",
           "useAggregationsUi": true,
           "valuesOptions": {},
           "version": 2,
           "xAxis": {
            "labels": {
             "enabled": true
            },
            "type": "-"
           },
           "yAxis": [
            {
             "type": "-"
            },
            {
             "opposite": true,
             "type": "-"
            }
           ]
          }
         }
        ]
       },
       "datasetPreviewNameToCmdIdMap": {},
       "diffDeletes": [],
       "diffInserts": [],
       "displayType": "redashChart",
       "error": null,
       "errorDetails": null,
       "errorSummary": null,
       "errorTraceType": null,
       "finishTime": 0,
       "globalVars": {},
       "guid": "",
       "height": "auto",
       "hideCommandCode": false,
       "hideCommandResult": false,
       "iPythonMetadata": null,
       "inputWidgets": {},
       "isLockedInExamMode": false,
       "latestUser": "a user",
       "latestUserId": null,
       "listResultMetadata": null,
       "metadata": {
        "byteLimit": 2048000,
        "rowLimit": 10000
       },
       "nuid": "71a30c30-4299-4279-816c-a98262346f6e",
       "origId": 0,
       "parentHierarchy": [],
       "pivotAggregation": null,
       "pivotColumns": null,
       "position": 23.5,
       "resultDbfsErrorMessage": null,
       "resultDbfsStatus": "INLINED_IN_TREE",
       "results": null,
       "showCommandTitle": false,
       "startTime": 0,
       "state": "input",
       "streamStates": {},
       "subcommandOptions": {
        "queryPlan": {
         "groups": [
          {
           "column": "term_yr",
           "type": "column"
          }
         ],
         "selects": [
          {
           "column": "term_yr",
           "type": "column"
          },
          {
           "alias": "column_22b577d486",
           "args": [
            {
             "column": "fwd_rate_extended",
             "type": "column"
            }
           ],
           "function": "SUM",
           "type": "function"
          }
         ]
        }
       },
       "submitTime": 0,
       "subtype": "tableResultSubCmd.visualization",
       "tableResultIndex": 0,
       "tableResultSettingsMap": {},
       "useConsistentColors": false,
       "version": "CommandV1",
       "width": "auto",
       "workflows": null,
       "xColumns": null,
       "yColumns": null
      }
     },
     "output_type": "display_data"
    }
   ],
   "source": [
    "df_extended = ModellingFunctions.bridge_forward_curve_to_longterm(\n",
    "    df_curve=df_all,\n",
    "    term_col= \"term_yr\",\n",
    "    fwd_col= \"fwd_rate_cubic\",\n",
    "    long_term_rate=long_term_rate,\n",
    "    max_slope=bridging_max_slope,\n",
    "    min_extension_years=bridging_min_extension_years,\n",
    "    extension_freq=bridging_extension_freq\n",
    ")\n",
    "\n",
    "# Expand to 100 years at 1/12 intervals\n",
    "full_terms = np.arange(0, curve_max_extension, 1/12)\n",
    "\n",
    "# Forward fill the forward rates\n",
    "full_fwd_rates = np.interp(full_terms, df_extended[\"term_yr\"], df_extended[\"fwd_rate_extended\"])\n",
    "\n",
    "# Final output\n",
    "df_extended = pd.DataFrame({\n",
    "    \"term_yr\": full_terms,\n",
    "    \"fwd_rate_extended\": full_fwd_rates,\n",
    "})\n",
    "\n",
    "display(df_extended)"
   ]
  }
 ],
 "metadata": {
  "application/vnd.databricks.v1+notebook": {
   "computePreferences": null,
   "dashboards": [],
   "environmentMetadata": {
    "base_environment": "",
    "environment_version": "2"
   },
   "inputWidgetPreferences": null,
   "language": "python",
   "notebookMetadata": {
    "pythonIndentUnit": 4
   },
   "notebookName": "001_modelling_riskfree_ZCB_forward_rates",
   "widgets": {}
  },
  "language_info": {
   "name": "python"
  }
 },
 "nbformat": 4,
 "nbformat_minor": 0
}
