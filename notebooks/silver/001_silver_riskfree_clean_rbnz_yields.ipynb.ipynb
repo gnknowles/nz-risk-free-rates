{
 "cells": [
  {
   "cell_type": "markdown",
   "metadata": {
    "application/vnd.databricks.v1+cell": {
     "cellMetadata": {
      "byteLimit": 2048000,
      "rowLimit": 10000
     },
     "inputWidgets": {},
     "nuid": "6967925d-f631-43d7-9744-1ca97e3ee8db",
     "showTitle": false,
     "tableResultSettingsMap": {},
     "title": ""
    }
   },
   "source": [
    "## Data ETL Notebook\n",
    "\n",
    "**Layer**: Silver\n",
    "\n",
    "**Domain**: Risk-free\n",
    "\n",
    "**Action**: Clean RBNZ Yields - Select current only"
   ]
  },
  {
   "cell_type": "code",
   "execution_count": 0,
   "metadata": {
    "application/vnd.databricks.v1+cell": {
     "cellMetadata": {
      "byteLimit": 2048000,
      "implicitDf": true,
      "rowLimit": 10000
     },
     "inputWidgets": {},
     "nuid": "87ff81b5-a3e7-4783-9f1c-0f23ab5f290b",
     "showTitle": false,
     "tableResultSettingsMap": {},
     "title": ""
    }
   },
   "outputs": [],
   "source": [
    "%sql\n",
    "-- Read current records from Bronze and write to Silver table (overwrite current version)\n",
    "CREATE OR REPLACE TABLE workspace.riskfree_silver.001_rbnz_yields_cleaned AS\n",
    "SELECT \n",
    "    date,\n",
    "    series_id,\n",
    "    yield_percent,\n",
    "    publish_date,\n",
    "    source_file_name,\n",
    "    ingestion_timestamp\n",
    "FROM workspace.riskfree_bronze.rbnz_yields_raw\n",
    "WHERE is_current = true;\n",
    "\n",
    "-- Confirmation message\n",
    "SELECT '✅ Silver table created: workspace.riskfree_silver.001_rbnz_yields_cleaned' AS message;"
   ]
  }
 ],
 "metadata": {
  "application/vnd.databricks.v1+notebook": {
   "computePreferences": null,
   "dashboards": [],
   "environmentMetadata": {
    "base_environment": "",
    "environment_version": "2"
   },
   "inputWidgetPreferences": null,
   "language": "python",
   "notebookMetadata": {
    "mostRecentlyExecutedCommandWithImplicitDF": {
     "commandId": 7478070122021078,
     "dataframes": [
      "_sqldf"
     ]
    },
    "pythonIndentUnit": 4
   },
   "notebookName": "001_silver_riskfree_clean_rbnz_yields.ipynb",
   "widgets": {}
  },
  "language_info": {
   "name": "python"
  }
 },
 "nbformat": 4,
 "nbformat_minor": 0
}
