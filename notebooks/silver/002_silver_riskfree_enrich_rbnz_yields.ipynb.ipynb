{
 "cells": [
  {
   "cell_type": "markdown",
   "metadata": {
    "application/vnd.databricks.v1+cell": {
     "cellMetadata": {},
     "inputWidgets": {},
     "nuid": "1d8a5693-680b-4bf1-a289-62def3bea4df",
     "showTitle": false,
     "tableResultSettingsMap": {},
     "title": ""
    }
   },
   "source": [
    "## Data ETL Notebook\n",
    "\n",
    "**Layer**: Silver\n",
    "\n",
    "**Domain**: Risk-free\n",
    "\n",
    "**Action**: Enrich RBNZ Yields - Merge series data on based on series ID"
   ]
  },
  {
   "cell_type": "code",
   "execution_count": 0,
   "metadata": {
    "application/vnd.databricks.v1+cell": {
     "cellMetadata": {
      "byteLimit": 2048000,
      "implicitDf": true,
      "rowLimit": 10000
     },
     "inputWidgets": {},
     "nuid": "e6314f81-bb76-4b69-bc37-e329e0dbb151",
     "showTitle": false,
     "tableResultSettingsMap": {},
     "title": ""
    }
   },
   "outputs": [],
   "source": [
    "%sql\n",
    "-- Read current records from Silver cleaned and merge Series data (overwrite current version)\n",
    "CREATE OR REPLACE TABLE workspace.riskfree_silver.002_rbnz_yields_enriched AS\n",
    "SELECT \n",
    "  b.date,\n",
    "  b.series_id,\n",
    "  b.yield_percent,\n",
    "  b.publish_date,\n",
    "  b.source_file_name,\n",
    "  b.ingestion_timestamp,\n",
    "  s.group,\n",
    "  s.series,\n",
    "  s.unit\n",
    "FROM workspace.riskfree_silver.001_rbnz_yields_cleaned b\n",
    "LEFT JOIN workspace.riskfree_metadata.series_definitions s\n",
    "  ON b.series_id = s.series_id; \n",
    "\n",
    "-- Confirmation message\n",
    "SELECT '✅ Silver table created: workspace.riskfree_silver.002_rbnz_yields_enriched' AS message;"
   ]
  }
 ],
 "metadata": {
  "application/vnd.databricks.v1+notebook": {
   "computePreferences": null,
   "dashboards": [],
   "environmentMetadata": {
    "base_environment": "",
    "environment_version": "2"
   },
   "inputWidgetPreferences": null,
   "language": "python",
   "notebookMetadata": {
    "mostRecentlyExecutedCommandWithImplicitDF": {
     "commandId": 7478070122021081,
     "dataframes": [
      "_sqldf"
     ]
    },
    "pythonIndentUnit": 4
   },
   "notebookName": "002_silver_riskfree_enrich_rbnz_yields.ipynb",
   "widgets": {}
  },
  "language_info": {
   "name": "python"
  }
 },
 "nbformat": 4,
 "nbformat_minor": 0
}
