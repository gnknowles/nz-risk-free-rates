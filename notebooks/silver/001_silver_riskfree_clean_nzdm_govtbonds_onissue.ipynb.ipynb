{
 "cells": [
  {
   "cell_type": "markdown",
   "metadata": {
    "application/vnd.databricks.v1+cell": {
     "cellMetadata": {},
     "inputWidgets": {},
     "nuid": "6967925d-f631-43d7-9744-1ca97e3ee8db",
     "showTitle": false,
     "tableResultSettingsMap": {},
     "title": ""
    }
   },
   "source": [
    "## Data ETL Notebook\n",
    "\n",
    "**Layer**: Silver\n",
    "\n",
    "**Domain**: Risk-free\n",
    "\n",
    "**Action**: Clean NZDM Amounts - Select current only, clean the coupon column to be numeric and convert date first issued to date type"
   ]
  },
  {
   "cell_type": "code",
   "execution_count": 0,
   "metadata": {
    "application/vnd.databricks.v1+cell": {
     "cellMetadata": {
      "byteLimit": 2048000,
      "implicitDf": true,
      "rowLimit": 10000
     },
     "inputWidgets": {},
     "nuid": "87ff81b5-a3e7-4783-9f1c-0f23ab5f290b",
     "showTitle": false,
     "tableResultSettingsMap": {},
     "title": ""
    }
   },
   "outputs": [],
   "source": [
    "%sql\n",
    "-- Read current records from Bronze and write to Silver table (overwrite current version)\n",
    "CREATE OR REPLACE TABLE workspace.riskfree_silver.001_nzdm_govtbonds_onissue_cleaned AS\n",
    "SELECT \n",
    "    TO_DATE(CONCAT('15/', date_first_issued), 'dd/M/yyyy')  -- handles '4/2024', '10/2012'\n",
    "    AS date_first_issued,\n",
    "\n",
    "    loan_prefix,\n",
    "    \n",
    "    -- Clean and convert coupon to numeric\n",
    "    CASE \n",
    "        WHEN coupon LIKE '%\\%%' THEN CAST(REGEXP_REPLACE(coupon, '%', '') AS DOUBLE) / 100\n",
    "        ELSE CAST(coupon AS DOUBLE)\n",
    "    END AS coupon,\n",
    "\n",
    "    maturity,\n",
    "    total_amt_outstanding_incl_rb_eqc_sresl_m,\n",
    "    rbnz_m,\n",
    "    eqc_m,\n",
    "    sresl_m,\n",
    "    market_bonds_m,\n",
    "    publish_date,\n",
    "    as_of_date,\n",
    "    source_file_name,\n",
    "    ingestion_timestamp\n",
    "FROM workspace.riskfree_bronze.nzdm_govtbonds_onissue\n",
    "WHERE is_current = true;\n",
    "\n",
    "-- Confirmation message\n",
    "SELECT '✅ Silver table created: workspace.riskfree_silver.001_nzdm_govtbonds_onissue_cleaned' AS message;"
   ]
  }
 ],
 "metadata": {
  "application/vnd.databricks.v1+notebook": {
   "computePreferences": null,
   "dashboards": [],
   "environmentMetadata": {
    "base_environment": "",
    "environment_version": "2"
   },
   "inputWidgetPreferences": null,
   "language": "python",
   "notebookMetadata": {
    "mostRecentlyExecutedCommandWithImplicitDF": {
     "commandId": 3035819516715626,
     "dataframes": [
      "_sqldf"
     ]
    },
    "pythonIndentUnit": 4
   },
   "notebookName": "001_silver_riskfree_clean_nzdm_govtbonds_onissue.ipynb",
   "widgets": {}
  },
  "language_info": {
   "name": "python"
  }
 },
 "nbformat": 4,
 "nbformat_minor": 0
}
