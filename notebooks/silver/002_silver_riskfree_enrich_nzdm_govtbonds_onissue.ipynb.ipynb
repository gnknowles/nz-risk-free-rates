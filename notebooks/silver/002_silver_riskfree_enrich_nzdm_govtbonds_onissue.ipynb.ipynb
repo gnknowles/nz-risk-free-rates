{
 "cells": [
  {
   "cell_type": "markdown",
   "metadata": {
    "application/vnd.databricks.v1+cell": {
     "cellMetadata": {},
     "inputWidgets": {},
     "nuid": "1d8a5693-680b-4bf1-a289-62def3bea4df",
     "showTitle": false,
     "tableResultSettingsMap": {},
     "title": ""
    }
   },
   "source": [
    "## Data ETL Notebook\n",
    "\n",
    "**Layer**: Silver\n",
    "\n",
    "**Domain**: Risk-free\n",
    "\n",
    "**Action**: Enrich NZDM Amounts - Merge series data on based on maturity date and series"
   ]
  },
  {
   "cell_type": "code",
   "execution_count": 0,
   "metadata": {
    "application/vnd.databricks.v1+cell": {
     "cellMetadata": {
      "byteLimit": 2048000,
      "implicitDf": true,
      "rowLimit": 10000
     },
     "inputWidgets": {},
     "nuid": "e6314f81-bb76-4b69-bc37-e329e0dbb151",
     "showTitle": false,
     "tableResultSettingsMap": {
      "0": {
       "dataGridStateBlob": "{\"version\":1,\"tableState\":{\"columnPinning\":{\"left\":[\"#row_number#\"],\"right\":[]},\"columnSizing\":{\"series\":173,\"group\":246,\"series_id\":122},\"columnVisibility\":{}},\"settings\":{\"columns\":{}},\"syncTimestamp\":1752065440328}",
       "filterBlob": null,
       "queryPlanFiltersBlob": null,
       "tableResultIndex": 0
      }
     },
     "title": ""
    }
   },
   "outputs": [],
   "source": [
    "%sql\n",
    "CREATE OR REPLACE TABLE workspace.riskfree_silver.002_nzdm_govtbonds_onissue_enriched AS\n",
    "\n",
    "WITH cleaned_series_definitions AS (\n",
    "  SELECT \n",
    "    *,\n",
    "    -- Parse full date only if it looks like '20 September 2025'\n",
    "    CASE \n",
    "      WHEN regexp_like(series, '^[0-9]{1,2} [A-Za-z]+ [0-9]{4}$') \n",
    "      THEN TO_DATE(series, 'd MMMM yyyy')\n",
    "      ELSE NULL \n",
    "    END AS parsed_full_date,\n",
    "\n",
    "    -- Fallback: parse 'May 2054' style partial dates → '15 May 2054'\n",
    "    CASE \n",
    "      WHEN regexp_like(series, '^[A-Za-z]+ [0-9]{4}$') \n",
    "      THEN TO_DATE(CONCAT('15 ', series), 'd MMMM yyyy')\n",
    "      ELSE NULL \n",
    "    END AS parsed_month_year\n",
    "  FROM workspace.riskfree_metadata.series_definitions\n",
    "),\n",
    "\n",
    "normalized_series_definitions AS (\n",
    "  SELECT \n",
    "    *,\n",
    "    COALESCE(parsed_full_date, parsed_month_year) AS normalized_maturity\n",
    "  FROM cleaned_series_definitions\n",
    "  WHERE COALESCE(parsed_full_date, parsed_month_year) IS NOT NULL\n",
    "),\n",
    "\n",
    "joined_data AS (\n",
    "  SELECT \n",
    "    nsd.series_id,\n",
    "    nsd.group,\n",
    "    govb.date_first_issued,\n",
    "    govb.loan_prefix,\n",
    "    govb.coupon,\n",
    "    govb.maturity,\n",
    "    govb.total_amt_outstanding_incl_rb_eqc_sresl_m,\n",
    "    govb.rbnz_m,\n",
    "    govb.eqc_m,\n",
    "    govb.sresl_m\n",
    "  FROM normalized_series_definitions nsd\n",
    "  RIGHT JOIN riskfree_silver.001_nzdm_govtbonds_onissue_cleaned govb\n",
    "    ON TRUNC(nsd.normalized_maturity, 'MM') = TRUNC(govb.maturity, 'MM')\n",
    ")\n",
    "\n",
    "SELECT * FROM joined_data;\n",
    "\n",
    "-- Confirmation message\n",
    "SELECT '✅ Silver table created: workspace.riskfree_silver.002_nzdm_govtbonds_onissue_enriched' AS message;"
   ]
  }
 ],
 "metadata": {
  "application/vnd.databricks.v1+notebook": {
   "computePreferences": null,
   "dashboards": [],
   "environmentMetadata": {
    "base_environment": "",
    "environment_version": "2"
   },
   "inputWidgetPreferences": null,
   "language": "python",
   "notebookMetadata": {
    "mostRecentlyExecutedCommandWithImplicitDF": {
     "commandId": 3035819516715630,
     "dataframes": [
      "_sqldf"
     ]
    },
    "pythonIndentUnit": 4
   },
   "notebookName": "002_silver_riskfree_enrich_nzdm_govtbonds_onissue.ipynb",
   "widgets": {}
  },
  "language_info": {
   "name": "python"
  }
 },
 "nbformat": 4,
 "nbformat_minor": 0
}
