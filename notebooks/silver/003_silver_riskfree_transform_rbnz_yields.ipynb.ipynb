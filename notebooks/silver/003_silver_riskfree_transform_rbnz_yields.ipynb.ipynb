{
 "cells": [
  {
   "cell_type": "markdown",
   "metadata": {
    "application/vnd.databricks.v1+cell": {
     "cellMetadata": {},
     "inputWidgets": {},
     "nuid": "1d8a5693-680b-4bf1-a289-62def3bea4df",
     "showTitle": false,
     "tableResultSettingsMap": {},
     "title": ""
    }
   },
   "source": [
    "## Data ETL Notebook\n",
    "\n",
    "**Layer**: Silver\n",
    "\n",
    "**Domain**: Risk-free\n",
    "\n",
    "**Action**: Transform RBNZ Yields and Series Data - Change group field (years) to numeric, and yields as decimals e.g. #.#% becomes 0.0##"
   ]
  },
  {
   "cell_type": "code",
   "execution_count": 0,
   "metadata": {
    "application/vnd.databricks.v1+cell": {
     "cellMetadata": {
      "byteLimit": 2048000,
      "implicitDf": true,
      "rowLimit": 10000
     },
     "inputWidgets": {},
     "nuid": "e6314f81-bb76-4b69-bc37-e329e0dbb151",
     "showTitle": false,
     "tableResultSettingsMap": {},
     "title": ""
    }
   },
   "outputs": [],
   "source": [
    "%sql\n",
    "-- Read current records from Silver cleaned and merge Series data (overwrite current version)\n",
    "CREATE OR REPLACE TABLE workspace.riskfree_silver.003_rbnz_yields_transformed AS\n",
    "SELECT\n",
    "    -- keep source columns\n",
    "    date,\n",
    "    series_id,\n",
    "    yield_percent,\n",
    "    source_file_name,\n",
    "    ingestion_timestamp,\n",
    "    group,\n",
    "    series,\n",
    "    unit,\n",
    "\n",
    "    -- numeric term: extract the first number and\n",
    "    --             convert months to years if present\n",
    "    CASE\n",
    "        WHEN lower(series) LIKE '%month%' THEN      -- e.g. '18 months'\n",
    "             regexp_extract(series, '([0-9]+\\\\.?[0-9]*)', 1)  / 12\n",
    "        ELSE                                       -- e.g. '1 year', '1.5 year'\n",
    "             regexp_extract(series, '([0-9]+\\\\.?[0-9]*)', 1)\n",
    "    END::double   AS term_years,\n",
    "\n",
    "    -- 1.50  → 0.015\n",
    "    yield_percent / 100.0  AS yield_decimal\n",
    "FROM workspace.riskfree_silver.002_rbnz_yields_enriched\n",
    ";\n",
    "\n",
    "-- Confirmation message\n",
    "SELECT '✅ Silver table created: workspace.riskfree_silver.003_rbnz_yields_transformed' AS message;"
   ]
  }
 ],
 "metadata": {
  "application/vnd.databricks.v1+notebook": {
   "computePreferences": null,
   "dashboards": [],
   "environmentMetadata": {
    "base_environment": "",
    "environment_version": "2"
   },
   "inputWidgetPreferences": null,
   "language": "python",
   "notebookMetadata": {
    "mostRecentlyExecutedCommandWithImplicitDF": {
     "commandId": 710853659269441,
     "dataframes": [
      "_sqldf"
     ]
    },
    "pythonIndentUnit": 4
   },
   "notebookName": "003_silver_riskfree_transform_rbnz_yields.ipynb",
   "widgets": {}
  },
  "language_info": {
   "name": "python"
  }
 },
 "nbformat": 4,
 "nbformat_minor": 0
}
