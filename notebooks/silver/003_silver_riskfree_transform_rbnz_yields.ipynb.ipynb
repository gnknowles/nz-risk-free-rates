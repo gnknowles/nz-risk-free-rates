{
 "cells": [
  {
   "cell_type": "markdown",
   "metadata": {
    "application/vnd.databricks.v1+cell": {
     "cellMetadata": {},
     "inputWidgets": {},
     "nuid": "1d8a5693-680b-4bf1-a289-62def3bea4df",
     "showTitle": false,
     "tableResultSettingsMap": {},
     "title": ""
    }
   },
   "source": [
    "## Data ETL Notebook\n",
    "\n",
    "**Layer**: Silver\n",
    "\n",
    "**Domain**: Risk-free\n",
    "\n",
    "**Action**: Transform RBNZ Yields - Yields as decimals e.g. #.#% becomes 0.0##"
   ]
  },
  {
   "cell_type": "code",
   "execution_count": 0,
   "metadata": {
    "application/vnd.databricks.v1+cell": {
     "cellMetadata": {
      "byteLimit": 2048000,
      "implicitDf": true,
      "rowLimit": 10000
     },
     "inputWidgets": {},
     "nuid": "e6314f81-bb76-4b69-bc37-e329e0dbb151",
     "showTitle": false,
     "tableResultSettingsMap": {},
     "title": ""
    }
   },
   "outputs": [],
   "source": [
    "%sql\n",
    "-- Read current records from Silver cleaned and merge Series data (overwrite current version)\n",
    "CREATE OR REPLACE TABLE workspace.riskfree_silver.003_rbnz_yields_transformed AS\n",
    "SELECT\n",
    "    -- keep source columns\n",
    "    date,\n",
    "    series_id,\n",
    "    yield_percent,\n",
    "    publish_date,\n",
    "    source_file_name,\n",
    "    ingestion_timestamp,\n",
    "    group,\n",
    "    series,\n",
    "    unit,\n",
    "\n",
    "    -- derive term_yr\n",
    "    CASE\n",
    "        -- Case 1: If series contains 'days' (e.g. '30 days')\n",
    "        WHEN lower(series) LIKE '%days%' THEN \n",
    "            TRY_CAST(REGEXP_EXTRACT(series, '(\\\\d+)') AS DOUBLE) / 360\n",
    "\n",
    "        -- Case 2: If series contains 'year' (e.g. '2 year')\n",
    "        WHEN lower(series) LIKE '%year%' THEN \n",
    "            TRY_CAST(REGEXP_EXTRACT(series, '(\\\\d+(\\\\.\\\\d+)?)') AS DOUBLE)\n",
    "\n",
    "        -- Case 3: If series contains full date (e.g. '20 September 2025')\n",
    "        WHEN series RLIKE '\\\\d{1,2} [A-Za-z]+ \\\\d{4}' THEN \n",
    "            DATEDIFF(TO_DATE(series, 'd MMMM yyyy'), publish_date) / 365.25\n",
    "\n",
    "        -- Case 4: If series contains partial date (e.g. 'March 2025'), assume day = 15\n",
    "        WHEN series RLIKE '^[A-Za-z]+ \\\\d{4}$' THEN \n",
    "            DATEDIFF(TO_DATE(CONCAT('15 ', series), 'd MMMM yyyy'), publish_date) / 365.25\n",
    "\n",
    "        -- Default case\n",
    "        ELSE 0\n",
    "    END AS term_yr,\n",
    "\n",
    "    -- whole number of months, rounded down\n",
    "    FLOOR(\n",
    "        CASE\n",
    "            WHEN lower(series) LIKE '%days%' THEN \n",
    "                TRY_CAST(REGEXP_EXTRACT(series, '(\\\\d+)') AS DOUBLE) / 360\n",
    "\n",
    "            WHEN lower(series) LIKE '%year%' THEN \n",
    "                TRY_CAST(REGEXP_EXTRACT(series, '(\\\\d+(\\\\.\\\\d+)?)') AS DOUBLE)\n",
    "\n",
    "            WHEN series RLIKE '\\\\d{1,2} [A-Za-z]+ \\\\d{4}' THEN \n",
    "                DATEDIFF(TO_DATE(series, 'd MMMM yyyy'), publish_date) / 365.25\n",
    "\n",
    "            WHEN series RLIKE '^[A-Za-z]+ \\\\d{4}$' THEN \n",
    "                DATEDIFF(TO_DATE(CONCAT('15 ', series), 'd MMMM yyyy'), publish_date) / 365.25\n",
    "\n",
    "            ELSE 0\n",
    "        END * 12\n",
    "    ) AS term_mth_whole,\n",
    "\n",
    "    -- yield decimal\n",
    "    yield_percent / 100 AS yield_decimal\n",
    "\n",
    "FROM workspace.riskfree_silver.002_rbnz_yields_enriched\n",
    ";\n",
    "\n",
    "-- Confirmation message\n",
    "SELECT '✅ Silver table created: workspace.riskfree_silver.003_rbnz_yields_transformed' AS message;"
   ]
  }
 ],
 "metadata": {
  "application/vnd.databricks.v1+notebook": {
   "computePreferences": null,
   "dashboards": [],
   "environmentMetadata": {
    "base_environment": "",
    "environment_version": "2"
   },
   "inputWidgetPreferences": null,
   "language": "python",
   "notebookMetadata": {
    "mostRecentlyExecutedCommandWithImplicitDF": {
     "commandId": 7478070122021084,
     "dataframes": [
      "_sqldf"
     ]
    },
    "pythonIndentUnit": 4
   },
   "notebookName": "003_silver_riskfree_transform_rbnz_yields.ipynb",
   "widgets": {}
  },
  "language_info": {
   "name": "python"
  }
 },
 "nbformat": 4,
 "nbformat_minor": 0
}
